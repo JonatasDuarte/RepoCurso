{
 "cells": [
  {
   "cell_type": "markdown",
   "id": "19d155d2",
   "metadata": {},
   "source": [
    "<div class=\"alert alert-block alert-info\">\n",
    "<center>MÉTODOS NUMÉRICOS</center>\n",
    "<center>LISTA 10</center>\n",
    "<center>ALUNO: JONATAS DA SILVA DUARTE</center>\n",
    "</div>\n"
   ]
  },
  {
   "cell_type": "code",
   "execution_count": 1,
   "id": "30ffcf42",
   "metadata": {},
   "outputs": [
    {
     "data": {
      "text/plain": [
       "'1.20.1'"
      ]
     },
     "execution_count": 1,
     "metadata": {},
     "output_type": "execute_result"
    }
   ],
   "source": [
    "import numpy as np\n",
    "import random as rn\n",
    "import matplotlib.pyplot as plt\n",
    "import scipy.linalg as sla\n",
    "\n",
    "np.__version__"
   ]
  },
  {
   "cell_type": "markdown",
   "id": "89f2a778",
   "metadata": {},
   "source": [
    "1. Classifique os sistemas abaixo com relação a quantidade e existência de soluções."
   ]
  },
  {
   "cell_type": "code",
   "execution_count": 2,
   "id": "999b1a85",
   "metadata": {},
   "outputs": [
    {
     "data": {
      "text/plain": [
       "2"
      ]
     },
     "execution_count": 2,
     "metadata": {},
     "output_type": "execute_result"
    }
   ],
   "source": [
    "## 1°\n",
    "a =  np.array([[1,2,3],[4,5,6],[7,8,9]])\n",
    "b =  np.array([1,1,1])\n",
    "\n",
    "## Rank(A)\n",
    "np.linalg.matrix_rank(a)"
   ]
  },
  {
   "cell_type": "code",
   "execution_count": 3,
   "id": "7f7c2da4",
   "metadata": {},
   "outputs": [
    {
     "data": {
      "text/plain": [
       "2"
      ]
     },
     "execution_count": 3,
     "metadata": {},
     "output_type": "execute_result"
    }
   ],
   "source": [
    "## Rank (Ã)\n",
    "np.linalg.matrix_rank(np.c_[a, b])"
   ]
  },
  {
   "cell_type": "code",
   "execution_count": 4,
   "id": "8466cbbe",
   "metadata": {},
   "outputs": [
    {
     "data": {
      "text/plain": [
       "3"
      ]
     },
     "execution_count": 4,
     "metadata": {},
     "output_type": "execute_result"
    }
   ],
   "source": [
    "a.shape[1]"
   ]
  },
  {
   "cell_type": "code",
   "execution_count": 5,
   "id": "e99dd10d",
   "metadata": {},
   "outputs": [
    {
     "data": {
      "text/plain": [
       "1"
      ]
     },
     "execution_count": 5,
     "metadata": {},
     "output_type": "execute_result"
    }
   ],
   "source": [
    "## 2°\n",
    "c = np.array([[2,3],[-4,-6]])\n",
    "d = np.array([10,-10])\n",
    "\n",
    "## Rank(A)\n",
    "np.linalg.matrix_rank(c)"
   ]
  },
  {
   "cell_type": "code",
   "execution_count": 6,
   "id": "3d7bd6b6",
   "metadata": {},
   "outputs": [
    {
     "data": {
      "text/plain": [
       "2"
      ]
     },
     "execution_count": 6,
     "metadata": {},
     "output_type": "execute_result"
    }
   ],
   "source": [
    "## Rank (Ã)\n",
    "np.linalg.matrix_rank(np.c_[c, d])"
   ]
  },
  {
   "cell_type": "code",
   "execution_count": 7,
   "id": "bd6b4c8f",
   "metadata": {},
   "outputs": [
    {
     "data": {
      "text/plain": [
       "2"
      ]
     },
     "execution_count": 7,
     "metadata": {},
     "output_type": "execute_result"
    }
   ],
   "source": [
    "c.shape[1]"
   ]
  },
  {
   "cell_type": "markdown",
   "id": "ccae0939",
   "metadata": {},
   "source": [
    "Assim, 1° sistema é possível e indeterminado (rank(Ã) = rank(A) < n). \n",
    "\n",
    "Enquanto o 2° é um sistema imposssível (rank(Ã) > rank(A))"
   ]
  },
  {
   "cell_type": "markdown",
   "id": "7aef61a1",
   "metadata": {},
   "source": [
    "2. Repita o exemplo 3.2 acima, porém fazendo cada passo da execução de forma explícita"
   ]
  },
  {
   "cell_type": "code",
   "execution_count": 8,
   "id": "16b989ea",
   "metadata": {},
   "outputs": [],
   "source": [
    "e = np.array([[3, 4, -5, 1],[0, 1, 1, -2],[0, 0, 4, -5], [0, 0, 0, 2]])\n",
    "f = np.array([-10, -1, 3, 2])"
   ]
  },
  {
   "cell_type": "code",
   "execution_count": 9,
   "id": "96959c61",
   "metadata": {
    "scrolled": true
   },
   "outputs": [],
   "source": [
    "## Passo 1\n",
    "n = e.shape[1]\n",
    "x = np.empty(n)"
   ]
  },
  {
   "cell_type": "code",
   "execution_count": 10,
   "id": "552def7a",
   "metadata": {},
   "outputs": [
    {
     "data": {
      "text/plain": [
       "array([ 2.,  3., -4.,  1.])"
      ]
     },
     "execution_count": 10,
     "metadata": {},
     "output_type": "execute_result"
    }
   ],
   "source": [
    "## Passo 2\n",
    "x[-1] = f[-1]/e[-1, -1]\n",
    "x"
   ]
  },
  {
   "cell_type": "code",
   "execution_count": 11,
   "id": "c93ab54d",
   "metadata": {},
   "outputs": [
    {
     "name": "stdout",
     "output_type": "stream",
     "text": [
      "-5.0\n",
      "-6.0\n",
      "33.0\n"
     ]
    }
   ],
   "source": [
    "## Passo 3\n",
    "for i in range(n-2, -1, -1):\n",
    "    print(np.sum(e[i,i+1:]*x[i+1:]))"
   ]
  },
  {
   "cell_type": "code",
   "execution_count": 12,
   "id": "23faae1e",
   "metadata": {},
   "outputs": [
    {
     "data": {
      "text/plain": [
       "array([ 1., -1.,  2.,  1.])"
      ]
     },
     "execution_count": 12,
     "metadata": {},
     "output_type": "execute_result"
    }
   ],
   "source": [
    "## Passo 4\n",
    "for i in range(n-2, -1, -1):\n",
    "    x[i] = (f[i] - np.sum(e[i,i+1:]*x[i+1:]))/e[i,i]\n",
    "x"
   ]
  },
  {
   "cell_type": "code",
   "execution_count": 13,
   "id": "99045862",
   "metadata": {},
   "outputs": [
    {
     "data": {
      "text/plain": [
       "array([ 1., -1.,  2.,  1.])"
      ]
     },
     "execution_count": 13,
     "metadata": {},
     "output_type": "execute_result"
    }
   ],
   "source": [
    "## Fazendo a comparação\n",
    "def sist_lin_tri_sup(A,b):\n",
    "    n = len(b)\n",
    "    x = np.empty(n)\n",
    "    x[-1] = b[-1]/A[-1, -1]\n",
    "    for i in range(n-2, -1, -1):\n",
    "        x[i] = (b[i] - np.sum(A[i,i+1:]*x[i+1:]))/A[i,i]\n",
    "    return x\n",
    "\n",
    "    \n",
    "sist_lin_tri_sup(e,f)"
   ]
  },
  {
   "cell_type": "markdown",
   "id": "fb48baea",
   "metadata": {},
   "source": [
    "Assim, conseguimos reproduzir passo a passo e obter os mesmos resultados."
   ]
  },
  {
   "cell_type": "markdown",
   "id": "45d21276",
   "metadata": {},
   "source": [
    "3. Repita o exemplo 3.3 acima, porém fazendo cada passo da execução de forma explícita"
   ]
  },
  {
   "cell_type": "code",
   "execution_count": 14,
   "id": "65832c23",
   "metadata": {},
   "outputs": [],
   "source": [
    "## Passo 1 - feito\n",
    "A = np.array([[3,0,0,0],[2,1,0,0],[1,0,1,0],[1,1,1,1]])\n",
    "B = np.array([4,2,4,2])\n",
    "\n",
    "n = A.shape[1]\n",
    "x = np.empty(n)"
   ]
  },
  {
   "cell_type": "code",
   "execution_count": 15,
   "id": "3404a818",
   "metadata": {},
   "outputs": [
    {
     "data": {
      "text/plain": [
       "1.3333333333333333"
      ]
     },
     "execution_count": 15,
     "metadata": {},
     "output_type": "execute_result"
    }
   ],
   "source": [
    "## Passo 2\n",
    "x[0] = B[0]/A[0, 0]\n",
    "x[0]"
   ]
  },
  {
   "cell_type": "code",
   "execution_count": 16,
   "id": "6910619d",
   "metadata": {},
   "outputs": [
    {
     "name": "stdout",
     "output_type": "stream",
     "text": [
      "2.6666666666666665\n",
      "1.3333333333333333\n",
      "4.333333333333333\n"
     ]
    }
   ],
   "source": [
    "## Passo 3\n",
    "for i in range(1, n):\n",
    "    print(np.sum(A[i,:i]*x[:i]))"
   ]
  },
  {
   "cell_type": "code",
   "execution_count": 17,
   "id": "cf9a20f7",
   "metadata": {},
   "outputs": [
    {
     "data": {
      "text/plain": [
       "array([ 1.33333333, -0.66666667,  2.66666667, -1.33333333])"
      ]
     },
     "execution_count": 17,
     "metadata": {},
     "output_type": "execute_result"
    }
   ],
   "source": [
    "## Passo 4\n",
    "for i in range(1,n):\n",
    "    x[i] = (B[i] - np.sum(A[i,:i]*x[:i]))/A[i,i]\n",
    "x"
   ]
  },
  {
   "cell_type": "code",
   "execution_count": 18,
   "id": "8f7767b5",
   "metadata": {},
   "outputs": [
    {
     "data": {
      "text/plain": [
       "array([ 1.33333333, -0.66666667,  2.66666667, -1.33333333])"
      ]
     },
     "execution_count": 18,
     "metadata": {},
     "output_type": "execute_result"
    }
   ],
   "source": [
    "## Comparação\n",
    "def sist_lin_tri_inf(A,b):\n",
    "    n = len(b)\n",
    "    x = np.empty(n)\n",
    "    x[0] = b[0]/A[0, 0]\n",
    "    for i in range(1,n):\n",
    "        x[i] = (b[i] - np.sum(A[i,:i]*x[:i]))/A[i,i]\n",
    "    return x\n",
    "\n",
    "sist_lin_tri_inf(A,B)"
   ]
  },
  {
   "cell_type": "markdown",
   "id": "00823c49",
   "metadata": {},
   "source": [
    "Assim como a anterior."
   ]
  },
  {
   "cell_type": "markdown",
   "id": "db41e920",
   "metadata": {},
   "source": [
    "4. Implemente uma função, cujos parâmetros de entrada sejam somente a matriz de coeficientes e o vetor de termos independentes e que calcule o vetor solução para qualquer um dos casos triviais vistos aqui. "
   ]
  },
  {
   "cell_type": "code",
   "execution_count": 19,
   "id": "9068c059",
   "metadata": {},
   "outputs": [],
   "source": [
    "## P/ dividir a tarefa, usaremos uma função que verifica a diagonal principal (superior ou inferior)\n",
    "def verifica_diagonal(matriz, tipo):\n",
    "    tt = 0\n",
    "    \n",
    "    for lin in range(matriz.shape[1]):\n",
    "        for col in range(matriz.shape[1]):\n",
    "            if (tipo == \"inf\" and col>lin):\n",
    "                tt += matriz[lin][col]\n",
    "                \n",
    "            elif (tipo == \"sup\" and col<lin):\n",
    "                tt += matriz[lin][col]                \n",
    "    return tt"
   ]
  },
  {
   "cell_type": "code",
   "execution_count": 20,
   "id": "c76dca90",
   "metadata": {},
   "outputs": [],
   "source": [
    "## Função principal\n",
    "def vetor_solucao(matriz, termos):\n",
    "    ## Verifica se o sistema tem solução precisa\n",
    "    if (np.linalg.matrix_rank(np.c_[matriz, termos]) > np.linalg.matrix_rank(matriz)):\n",
    "        return (\"sistema não admite uma solução precisa\")\n",
    "    else:\n",
    "        ## Usamos nossa funnção de apoio para verificar a diagonal\n",
    "        soma_sup = verifica_diagonal(matriz, \"inf\")\n",
    "        soma_inf = verifica_diagonal(matriz, \"sup\")\n",
    "        if (soma_sup == 0):\n",
    "            vetor_sol = sla.solve_triangular(matriz, termos, lower=True)\n",
    "        elif (soma_inf == 0):\n",
    "            vetor_sol = sla.solve_triangular(matriz, termos, lower=False)\n",
    "        else:\n",
    "            vetor_sol = sist_lin_tri_inf(matriz, termos)\n",
    "    return vetor_sol        "
   ]
  },
  {
   "cell_type": "code",
   "execution_count": 21,
   "id": "d6fd2be9",
   "metadata": {},
   "outputs": [
    {
     "name": "stdout",
     "output_type": "stream",
     "text": [
      "Matriz:\n",
      " [[1 2 3]\n",
      " [4 5 6]\n",
      " [7 8 9]] \n",
      "Termos:\n",
      " [1 1 1]\n"
     ]
    },
    {
     "data": {
      "text/plain": [
       "array([ 1.        , -0.6       , -0.13333333])"
      ]
     },
     "execution_count": 21,
     "metadata": {},
     "output_type": "execute_result"
    }
   ],
   "source": [
    "## Usando as matrizess dadas antes, temos: 1° situação\n",
    "print('Matriz:\\n',a,'\\nTermos:\\n',b)\n",
    "vetor_solucao(a,b)"
   ]
  },
  {
   "cell_type": "code",
   "execution_count": 22,
   "id": "78657a7b",
   "metadata": {},
   "outputs": [
    {
     "name": "stdout",
     "output_type": "stream",
     "text": [
      "Matriz:\n",
      " [[ 2  3]\n",
      " [-4 -6]] \n",
      "Termos:\n",
      " [ 10 -10]\n"
     ]
    },
    {
     "data": {
      "text/plain": [
       "'sistema não admite uma solução precisa'"
      ]
     },
     "execution_count": 22,
     "metadata": {},
     "output_type": "execute_result"
    }
   ],
   "source": [
    "## 2° situação\n",
    "print('Matriz:\\n',c,'\\nTermos:\\n',d)\n",
    "vetor_solucao(c,d)"
   ]
  },
  {
   "cell_type": "code",
   "execution_count": 23,
   "id": "d5522f07",
   "metadata": {},
   "outputs": [
    {
     "name": "stdout",
     "output_type": "stream",
     "text": [
      "Matriz:\n",
      " [[ 3  4 -5  1]\n",
      " [ 0  1  1 -2]\n",
      " [ 0  0  4 -5]\n",
      " [ 0  0  0  2]] \n",
      "Termos:\n",
      " [-10  -1   3   2]\n"
     ]
    },
    {
     "data": {
      "text/plain": [
       "array([ 1., -1.,  2.,  1.])"
      ]
     },
     "execution_count": 23,
     "metadata": {},
     "output_type": "execute_result"
    }
   ],
   "source": [
    "## 3° situacao\n",
    "print('Matriz:\\n',e,'\\nTermos:\\n',f)\n",
    "vetor_solucao(e,f)"
   ]
  },
  {
   "cell_type": "code",
   "execution_count": 24,
   "id": "721efb34",
   "metadata": {},
   "outputs": [
    {
     "name": "stdout",
     "output_type": "stream",
     "text": [
      "Matriz:\n",
      " [[3 0 0 0]\n",
      " [2 1 0 0]\n",
      " [1 0 1 0]\n",
      " [1 1 1 1]] \n",
      "Termos:\n",
      " [4 2 4 2]\n"
     ]
    },
    {
     "data": {
      "text/plain": [
       "array([ 1.33333333, -0.66666667,  2.66666667, -1.33333333])"
      ]
     },
     "execution_count": 24,
     "metadata": {},
     "output_type": "execute_result"
    }
   ],
   "source": [
    "## 4° situacao\n",
    "print('Matriz:\\n',A,'\\nTermos:\\n',B)\n",
    "vetor_solucao(A,B)"
   ]
  }
 ],
 "metadata": {
  "kernelspec": {
   "display_name": "Python 3",
   "language": "python",
   "name": "python3"
  },
  "language_info": {
   "codemirror_mode": {
    "name": "ipython",
    "version": 3
   },
   "file_extension": ".py",
   "mimetype": "text/x-python",
   "name": "python",
   "nbconvert_exporter": "python",
   "pygments_lexer": "ipython3",
   "version": "3.8.8"
  }
 },
 "nbformat": 4,
 "nbformat_minor": 5
}
