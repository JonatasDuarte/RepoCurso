{
 "cells": [
  {
   "cell_type": "markdown",
   "id": "ededaf16",
   "metadata": {},
   "source": [
    "<div class=\"alert alert-block alert-info\">\n",
    "<center>MÉTODOS NUMÉRICOS</center>\n",
    "<center>LISTA 1</center>\n",
    "<center>ALUNO: JONATAS DA SILVA DUARTE</center>\n",
    "</div>\n"
   ]
  },
  {
   "cell_type": "markdown",
   "id": "1cc6cd36",
   "metadata": {},
   "source": [
    "1. Como importar a biblioteca numpy e verificar a versão utilizada?"
   ]
  },
  {
   "cell_type": "code",
   "execution_count": 113,
   "id": "f37d93e7",
   "metadata": {},
   "outputs": [
    {
     "data": {
      "text/plain": [
       "'1.20.1'"
      ]
     },
     "execution_count": 113,
     "metadata": {},
     "output_type": "execute_result"
    }
   ],
   "source": [
    "import numpy as np\n",
    "import random as rn\n",
    "import matplotlib.pyplot as plt\n",
    "\n",
    "np.__version__"
   ]
  },
  {
   "cell_type": "markdown",
   "id": "69cbd57c",
   "metadata": {},
   "source": [
    "2. Explique, com suas palavras, os conceitos de vetorização e broadcasting que Numpy implementa."
   ]
  },
  {
   "cell_type": "markdown",
   "id": "bc134e18",
   "metadata": {},
   "source": [
    "Vetorização: é a substituição de loops comuns, como estamos acostumados a ver, por SIMD (Single Instruction Multiple Data) que processa a mesma operação, em vários pontos de dados, em um único ciclo do processador. E isso é possível graças ao ndarray ou array n-dimensional, que são as estruturas disponibilizadas pelo numpy."
   ]
  },
  {
   "cell_type": "markdown",
   "id": "65271ac9",
   "metadata": {},
   "source": [
    "Broascasting: é a forma como numpy trata as matrizes com diferentes dimensões durante as operações aritméticas. Assim, a matriz menor é 'transmitida', dai vem o termo do inglês, pela matriz maior para que tenham formas compatíveis e seja possível prosseguir com as operações. Para isso, o broadcasting nos da uma forma de vetorizar essas operações de arrays para que o loop ocorra em C ao invés de Python."
   ]
  },
  {
   "cell_type": "markdown",
   "id": "e97e2a11",
   "metadata": {},
   "source": [
    "3. Liste as diferenças entre uma lista, um dicionário, um array numpy, dando exemplos de aplicação de em que cada tipo seria mais interessante.\n"
   ]
  },
  {
   "cell_type": "markdown",
   "id": "b4af851a",
   "metadata": {},
   "source": [
    "Lista = São mutáveis, ordenadas, heterogêneas, indexada por posição, delimitada por colchetes. Podemos acessar itens através de seu índice, que corresponde a sua posição na lista.\n",
    "\n",
    "Dicionário = São mutáveis, não ordenados, heterogêneos, indexada por chaves, delimitada por chaves {}. É possível acessar dados em um dicionário através da palavra chave que foi associada a um elemento.\n",
    "\n",
    "Array Numpy = O array numpy é uma estrutura de dados com capacidade de vetorização, que possibilita que qualquer operação feita com a estrutura seja feita elemento a elemento sem a necessidade de um laço para acessar esses elementos, tornando, assim, a operação computacionalmente mais eficiente."
   ]
  },
  {
   "cell_type": "markdown",
   "id": "cbc5c998",
   "metadata": {},
   "source": [
    "4. Forme a matriz"
   ]
  },
  {
   "cell_type": "code",
   "execution_count": 16,
   "id": "476c2c5c",
   "metadata": {},
   "outputs": [
    {
     "name": "stdout",
     "output_type": "stream",
     "text": [
      "Array 1:  [ 1  2  3  4  5  6  7  8  9 10 11 12 13 14 15]\n"
     ]
    }
   ],
   "source": [
    "arr1 = np.arange(1,16)\n",
    "print('Array 1: ', arr1)"
   ]
  },
  {
   "cell_type": "code",
   "execution_count": 19,
   "id": "dc0087b7",
   "metadata": {},
   "outputs": [
    {
     "name": "stdout",
     "output_type": "stream",
     "text": [
      "Formato 3x5: \n",
      " [[ 1  6 11]\n",
      " [ 2  7 12]\n",
      " [ 3  8 13]\n",
      " [ 4  9 14]\n",
      " [ 5 10 15]]\n"
     ]
    }
   ],
   "source": [
    "arr2 = arr1.reshape((3,5)).T\n",
    "print('Formato 3x5: \\n', arr2)"
   ]
  },
  {
   "cell_type": "markdown",
   "id": "f01d8a18",
   "metadata": {},
   "source": [
    "Fiz uso do T(transposta) para transformar as linhas em colunas e vice-versa."
   ]
  },
  {
   "cell_type": "markdown",
   "id": "8cbd3386",
   "metadata": {},
   "source": [
    "5. Usando numpy, crie:\n",
    "\n",
    "    (a) um vetor de 10 elementos entre 1 e 20"
   ]
  },
  {
   "cell_type": "code",
   "execution_count": 35,
   "id": "822f2a2f",
   "metadata": {},
   "outputs": [
    {
     "name": "stdout",
     "output_type": "stream",
     "text": [
      "Array (a): \n",
      " [ 1.          3.11111111  5.22222222  7.33333333  9.44444444 11.55555556\n",
      " 13.66666667 15.77777778 17.88888889 20.        ] \n",
      "\n",
      "Tamanho:  10\n"
     ]
    }
   ],
   "source": [
    "arrA = np.linspace(1,20,10)\n",
    "print('Array (a): \\n', arrA, '\\n\\nTamanho: ', len(arrA))"
   ]
  },
  {
   "cell_type": "markdown",
   "id": "9d7e2cf6",
   "metadata": {},
   "source": [
    "    (b) um vetor entre 1 e 20, com passo de 2"
   ]
  },
  {
   "cell_type": "code",
   "execution_count": 37,
   "id": "d8ac0887",
   "metadata": {},
   "outputs": [
    {
     "name": "stdout",
     "output_type": "stream",
     "text": [
      "Array (b): \n",
      " [ 1  3  5  7  9 11 13 15 17 19] \n",
      "\n",
      "Tamanho:  10\n"
     ]
    }
   ],
   "source": [
    "arrB = np.arange(1,20,2)\n",
    "print('Array (b): \\n', arrB, '\\n\\nTamanho: ', len(arrB))"
   ]
  },
  {
   "cell_type": "markdown",
   "id": "f6305f5e",
   "metadata": {},
   "source": [
    "    (c) uma matriz 3x3 cujos elementos da diagonal sejam o vetor [1,2,3] e os demais sejam todos 0"
   ]
  },
  {
   "cell_type": "code",
   "execution_count": 59,
   "id": "8ca4fc6f",
   "metadata": {},
   "outputs": [
    {
     "name": "stdout",
     "output_type": "stream",
     "text": [
      "Array (c): \n",
      " [[1. 0. 0.]\n",
      " [0. 2. 0.]\n",
      " [0. 0. 3.]] \n",
      "\n",
      "Tamanho:  3\n"
     ]
    }
   ],
   "source": [
    "arrC = ([1,2,3])*np.eye(3)\n",
    "print('Array (c): \\n', arrC, '\\n\\nTamanho: ', len(arrC))"
   ]
  },
  {
   "cell_type": "markdown",
   "id": "e1aa91b9",
   "metadata": {},
   "source": [
    "6. Considere a lista [-2, 4., ’7’, 9] e crie um array Numpy a partir dessa lista. Houve uma mudança no tipo de vários elementos. \n",
    "Explique com suas palavras porque isso aconteceu. Se o elemento ’7’ for escrito como inteiro, o que muda na saída e por que?"
   ]
  },
  {
   "cell_type": "code",
   "execution_count": 69,
   "id": "69a5e1b9",
   "metadata": {},
   "outputs": [
    {
     "name": "stdout",
     "output_type": "stream",
     "text": [
      "Array (6.1): \n",
      " ['-2' '4.0' '7' '9'] \n",
      "\n",
      "Array (6.2): \n",
      " [-2.  4.  7.  9.]\n"
     ]
    }
   ],
   "source": [
    "arrString = np.array([-2, 4., '7', 9])\n",
    "arrNumber = np.array([-2, 4., 7, 9])\n",
    "\n",
    "print('Array (6.1): \\n', arrString, '\\n\\nArray (6.2): \\n', arrNumber)"
   ]
  },
  {
   "cell_type": "markdown",
   "id": "137d6f80",
   "metadata": {},
   "source": [
    "Como vimos, com  uso do '7' como string em um dos elementos, os demais também serão convertidos, TODOS, em strings. Enquando que sem a string, todos permanecem numéricos. Isso ocorre graças ao UpCast, fazendo com que o tipo de maior precedência vire o tipo comum, de todos os elementos."
   ]
  },
  {
   "cell_type": "markdown",
   "id": "b1490303",
   "metadata": {},
   "source": [
    "7. Crie um vetor A com valores variando de 10 à 49, um vetor B variando de 1 à 39 e um vetorb C de 10 à 20. Então realize e comente a saída das seguintes operações:\n"
   ]
  },
  {
   "cell_type": "code",
   "execution_count": 80,
   "id": "5a16f661",
   "metadata": {},
   "outputs": [
    {
     "name": "stdout",
     "output_type": "stream",
     "text": [
      "Array (A): \n",
      " [10.         10.79591837 11.59183673 12.3877551  13.18367347 13.97959184\n",
      " 14.7755102  15.57142857 16.36734694 17.16326531 17.95918367 18.75510204\n",
      " 19.55102041 20.34693878 21.14285714 21.93877551 22.73469388 23.53061224\n",
      " 24.32653061 25.12244898 25.91836735 26.71428571 27.51020408 28.30612245\n",
      " 29.10204082 29.89795918 30.69387755 31.48979592 32.28571429 33.08163265\n",
      " 33.87755102 34.67346939 35.46938776 36.26530612 37.06122449 37.85714286\n",
      " 38.65306122 39.44897959 40.24489796 41.04081633 41.83673469 42.63265306\n",
      " 43.42857143 44.2244898  45.02040816 45.81632653 46.6122449  47.40816327\n",
      " 48.20408163 49.        ] \n",
      "\n",
      "Tamanho A:  50 \n",
      "\n",
      "Array (B): \n",
      " [ 1.          1.7755102   2.55102041  3.32653061  4.10204082  4.87755102\n",
      "  5.65306122  6.42857143  7.20408163  7.97959184  8.75510204  9.53061224\n",
      " 10.30612245 11.08163265 11.85714286 12.63265306 13.40816327 14.18367347\n",
      " 14.95918367 15.73469388 16.51020408 17.28571429 18.06122449 18.83673469\n",
      " 19.6122449  20.3877551  21.16326531 21.93877551 22.71428571 23.48979592\n",
      " 24.26530612 25.04081633 25.81632653 26.59183673 27.36734694 28.14285714\n",
      " 28.91836735 29.69387755 30.46938776 31.24489796 32.02040816 32.79591837\n",
      " 33.57142857 34.34693878 35.12244898 35.89795918 36.67346939 37.44897959\n",
      " 38.2244898  39.        ] \n",
      "\n",
      "Tamanho B:  50 \n",
      "\n",
      "Array (C): \n",
      " [10.         10.20408163 10.40816327 10.6122449  10.81632653 11.02040816\n",
      " 11.2244898  11.42857143 11.63265306 11.83673469 12.04081633 12.24489796\n",
      " 12.44897959 12.65306122 12.85714286 13.06122449 13.26530612 13.46938776\n",
      " 13.67346939 13.87755102 14.08163265 14.28571429 14.48979592 14.69387755\n",
      " 14.89795918 15.10204082 15.30612245 15.51020408 15.71428571 15.91836735\n",
      " 16.12244898 16.32653061 16.53061224 16.73469388 16.93877551 17.14285714\n",
      " 17.34693878 17.55102041 17.75510204 17.95918367 18.16326531 18.36734694\n",
      " 18.57142857 18.7755102  18.97959184 19.18367347 19.3877551  19.59183673\n",
      " 19.79591837 20.        ] \n",
      "\n",
      "Tamanho C:  50\n"
     ]
    }
   ],
   "source": [
    "A = np.linspace(10,49)\n",
    "B = np.linspace(1,39)\n",
    "C = np.linspace(10, 20)\n",
    "print('Array (A): \\n', A, '\\n\\nTamanho A: ', len(A), \n",
    "      '\\n\\nArray (B): \\n', B, '\\n\\nTamanho B: ', len(B), \n",
    "      '\\n\\nArray (C): \\n', C, '\\n\\nTamanho C: ', len(C))"
   ]
  },
  {
   "cell_type": "markdown",
   "id": "5815154e",
   "metadata": {},
   "source": [
    "     (a) A+ B"
   ]
  },
  {
   "cell_type": "code",
   "execution_count": 73,
   "id": "d2465e7b",
   "metadata": {},
   "outputs": [
    {
     "data": {
      "text/plain": [
       "array([11.        , 12.57142857, 14.14285714, 15.71428571, 17.28571429,\n",
       "       18.85714286, 20.42857143, 22.        , 23.57142857, 25.14285714,\n",
       "       26.71428571, 28.28571429, 29.85714286, 31.42857143, 33.        ,\n",
       "       34.57142857, 36.14285714, 37.71428571, 39.28571429, 40.85714286,\n",
       "       42.42857143, 44.        , 45.57142857, 47.14285714, 48.71428571,\n",
       "       50.28571429, 51.85714286, 53.42857143, 55.        , 56.57142857,\n",
       "       58.14285714, 59.71428571, 61.28571429, 62.85714286, 64.42857143,\n",
       "       66.        , 67.57142857, 69.14285714, 70.71428571, 72.28571429,\n",
       "       73.85714286, 75.42857143, 77.        , 78.57142857, 80.14285714,\n",
       "       81.71428571, 83.28571429, 84.85714286, 86.42857143, 88.        ])"
      ]
     },
     "execution_count": 73,
     "metadata": {},
     "output_type": "execute_result"
    }
   ],
   "source": [
    "A+B"
   ]
  },
  {
   "cell_type": "markdown",
   "id": "75a74dae",
   "metadata": {},
   "source": [
    "    (b)A·B"
   ]
  },
  {
   "cell_type": "code",
   "execution_count": 74,
   "id": "a8a3842b",
   "metadata": {},
   "outputs": [
    {
     "data": {
      "text/plain": [
       "array([  10.        ,   19.16826322,   29.57101208,   41.20824656,\n",
       "         54.07996668,   68.18617243,   83.52686381,  100.10204082,\n",
       "        117.91170346,  136.95585173,  157.23448563,  178.74760516,\n",
       "        201.49521033,  225.47730112,  250.69387755,  277.14493961,\n",
       "        304.8304873 ,  333.75052062,  363.90503957,  395.29404415,\n",
       "        427.91753436,  461.7755102 ,  496.86797168,  533.19491878,\n",
       "        570.75635152,  609.55226989,  649.58267389,  690.84756352,\n",
       "        733.34693878,  777.08079967,  822.04914619,  868.25197834,\n",
       "        915.68929613,  964.36109954, 1014.26738859, 1065.40816327,\n",
       "       1117.78342357, 1171.39316951, 1226.23740108, 1282.31611828,\n",
       "       1339.62932112, 1398.17700958, 1457.95918367, 1518.9758434 ,\n",
       "       1581.22698875, 1644.71261974, 1709.43273636, 1775.38733861,\n",
       "       1842.57642649, 1911.        ])"
      ]
     },
     "execution_count": 74,
     "metadata": {},
     "output_type": "execute_result"
    }
   ],
   "source": [
    "A*B"
   ]
  },
  {
   "cell_type": "markdown",
   "id": "e8739cfd",
   "metadata": {},
   "source": [
    "    (c)A+C"
   ]
  },
  {
   "cell_type": "code",
   "execution_count": 81,
   "id": "c75b3e6b",
   "metadata": {},
   "outputs": [
    {
     "data": {
      "text/plain": [
       "array([20., 21., 22., 23., 24., 25., 26., 27., 28., 29., 30., 31., 32.,\n",
       "       33., 34., 35., 36., 37., 38., 39., 40., 41., 42., 43., 44., 45.,\n",
       "       46., 47., 48., 49., 50., 51., 52., 53., 54., 55., 56., 57., 58.,\n",
       "       59., 60., 61., 62., 63., 64., 65., 66., 67., 68., 69.])"
      ]
     },
     "execution_count": 81,
     "metadata": {},
     "output_type": "execute_result"
    }
   ],
   "source": [
    "A+C"
   ]
  },
  {
   "cell_type": "markdown",
   "id": "63ec07b8",
   "metadata": {},
   "source": [
    "    (d)B·C"
   ]
  },
  {
   "cell_type": "code",
   "execution_count": 82,
   "id": "ebf7555a",
   "metadata": {},
   "outputs": [
    {
     "data": {
      "text/plain": [
       "array([ 10.        ,  18.11745106,  26.5514369 ,  35.30195752,\n",
       "        44.36901291,  53.75260308,  63.45272803,  73.46938776,\n",
       "        83.80258226,  94.45231154, 105.41857559, 116.70137443,\n",
       "       128.30070804, 140.21657643, 152.44897959, 164.99791753,\n",
       "       177.86339025, 191.04539775, 204.54394002, 218.35901708,\n",
       "       232.4906289 , 246.93877551, 261.70345689, 276.78467305,\n",
       "       292.18242399, 307.8967097 , 323.9275302 , 340.27488546,\n",
       "       356.93877551, 373.91920033, 391.21615993, 408.82965431,\n",
       "       426.75968347, 445.0062474 , 463.56934611, 482.44897959,\n",
       "       501.64514786, 521.1578509 , 540.98708871, 561.13286131,\n",
       "       581.59516868, 602.37401083, 623.46938776, 644.88129946,\n",
       "       666.60974594, 688.6547272 , 711.01624323, 733.69429404,\n",
       "       756.68887963, 780.        ])"
      ]
     },
     "execution_count": 82,
     "metadata": {},
     "output_type": "execute_result"
    }
   ],
   "source": [
    "B*C"
   ]
  },
  {
   "cell_type": "markdown",
   "id": "75c7bac9",
   "metadata": {},
   "source": [
    "8. Crie uma matriz 3 × 3 , com elementos variando de 0 à 8."
   ]
  },
  {
   "cell_type": "code",
   "execution_count": 108,
   "id": "c124ce3d",
   "metadata": {},
   "outputs": [
    {
     "data": {
      "text/plain": [
       "array([[0., 3., 6.],\n",
       "       [1., 4., 7.],\n",
       "       [2., 5., 8.]])"
      ]
     },
     "execution_count": 108,
     "metadata": {},
     "output_type": "execute_result"
    }
   ],
   "source": [
    "np.linspace(0,8,9).reshape(3,3).T"
   ]
  },
  {
   "cell_type": "markdown",
   "id": "a408a388",
   "metadata": {},
   "source": [
    "9. Crie uma matriz 3 × 3 × 3 com elementos aleatórios."
   ]
  },
  {
   "cell_type": "code",
   "execution_count": 119,
   "id": "734112a0",
   "metadata": {},
   "outputs": [
    {
     "data": {
      "text/plain": [
       "array([[[0.11716091, 0.6289124 , 0.80151738],\n",
       "        [0.94122946, 0.57920122, 0.02186802],\n",
       "        [0.00226698, 0.04369462, 0.47300199]],\n",
       "\n",
       "       [[0.87252263, 0.95136144, 0.30185697],\n",
       "        [0.87363747, 0.67810235, 0.12853401],\n",
       "        [0.92853362, 0.68849545, 0.33416134]],\n",
       "\n",
       "       [[0.58226046, 0.77641775, 0.50953032],\n",
       "        [0.33228866, 0.36168069, 0.61284543],\n",
       "        [0.04252656, 0.96818984, 0.45459924]]])"
      ]
     },
     "execution_count": 119,
     "metadata": {},
     "output_type": "execute_result"
    }
   ],
   "source": [
    "np.random.rand(3,3,3)"
   ]
  },
  {
   "cell_type": "markdown",
   "id": "b6b357ae",
   "metadata": {},
   "source": [
    "10. Usando a função sin do numpy, e a função plot da matplotlib, módulo de geração de gráficos, plote um gráfico contendo os dois primeiros períodos de uma senóide."
   ]
  },
  {
   "cell_type": "code",
   "execution_count": 117,
   "id": "69e0df3e",
   "metadata": {},
   "outputs": [
    {
     "data": {
      "text/plain": [
       "[<matplotlib.lines.Line2D at 0x2062633f9d0>]"
      ]
     },
     "execution_count": 117,
     "metadata": {},
     "output_type": "execute_result"
    },
    {
     "data": {
      "image/png": "[encoded data removed]",
      "text/plain": [
       "<Figure size 432x288 with 1 Axes>"
      ]
     },
     "metadata": {
      "needs_background": "light"
     },
     "output_type": "display_data"
    }
   ],
   "source": [
    "plt.plot(np.sin(arr1))"
   ]
  },
  {
   "cell_type": "code",
   "execution_count": null,
   "id": "f2e0f0e4",
   "metadata": {},
   "outputs": [],
   "source": []
  }
 ],
 "metadata": {
  "kernelspec": {
   "display_name": "Python 3",
   "language": "python",
   "name": "python3"
  },
  "language_info": {
   "codemirror_mode": {
    "name": "ipython",
    "version": 3
   },
   "file_extension": ".py",
   "mimetype": "text/x-python",
   "name": "python",
   "nbconvert_exporter": "python",
   "pygments_lexer": "ipython3",
   "version": "3.8.8"
  }
 },
 "nbformat": 4,
 "nbformat_minor": 5
}
