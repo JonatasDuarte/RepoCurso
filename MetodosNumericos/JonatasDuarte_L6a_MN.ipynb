{
 "cells": [
  {
   "cell_type": "markdown",
   "id": "9146e6ef",
   "metadata": {},
   "source": [
    "<div class=\"alert alert-block alert-info\">\n",
    "<center>MÉTODOS NUMÉRICOS</center>\n",
    "<center>LISTA 6 a</center>\n",
    "<center>ALUNO: JONATAS DA SILVA DUARTE</center>\n",
    "</div>\n"
   ]
  },
  {
   "cell_type": "code",
   "execution_count": 11,
   "id": "19888463",
   "metadata": {},
   "outputs": [
    {
     "data": {
      "text/plain": [
       "'1.20.1'"
      ]
     },
     "execution_count": 11,
     "metadata": {},
     "output_type": "execute_result"
    }
   ],
   "source": [
    "import numpy as np\n",
    "import random as rn\n",
    "import matplotlib.pyplot as plt\n",
    "\n",
    "np.__version__"
   ]
  },
  {
   "cell_type": "markdown",
   "id": "1448af76",
   "metadata": {},
   "source": [
    "1. Implemente o método da Bisseção descrito pelo algoritmo 1.1 no texto. Para testar o algoritmo, use os exemplos do material textual."
   ]
  },
  {
   "cell_type": "code",
   "execution_count": 12,
   "id": "4e225a4b",
   "metadata": {},
   "outputs": [],
   "source": [
    "def bissec(f, a, b, tt = 1e-15):\n",
    "    x_ant = a\n",
    "    if np.sign(f(a)) * np.sign(f(b)) != -1:\n",
    "        return\n",
    "    else:\n",
    "        while(1):\n",
    "            x = (a + b) / 2\n",
    "            if np.abs((x - x_ant) / x) < tt:\n",
    "                break\n",
    "            if f(x) == 0:\n",
    "                return x\n",
    "            elif np.sign(f(a)) * np.sign(f(x)) == -1:\n",
    "                b = x\n",
    "            else:\n",
    "                a = x\n",
    "                \n",
    "            x_ant = x\n",
    "\n",
    "    return x"
   ]
  },
  {
   "cell_type": "code",
   "execution_count": 16,
   "id": "5ecb5f09",
   "metadata": {},
   "outputs": [
    {
     "name": "stdout",
     "output_type": "stream",
     "text": [
      "A =  0 \n",
      "B =  1 \n",
      "F =  <function <lambda> at 0x0000028946182430>\n"
     ]
    }
   ],
   "source": [
    "## Testando\n",
    "a = 0\n",
    "b = 1\n",
    "f = lambda i: 2 - np.exp(i)\n",
    "print('A = ', a, '\\nB = ', b, '\\nF = ', f)"
   ]
  },
  {
   "cell_type": "code",
   "execution_count": 17,
   "id": "03f150c0",
   "metadata": {},
   "outputs": [
    {
     "data": {
      "text/plain": [
       "[<matplotlib.lines.Line2D at 0x289462401c0>]"
      ]
     },
     "execution_count": 17,
     "metadata": {},
     "output_type": "execute_result"
    },
    {
     "data": {
      "image/png": "[encoded data removed]",
      "text/plain": [
       "<Figure size 432x288 with 1 Axes>"
      ]
     },
     "metadata": {
      "needs_background": "light"
     },
     "output_type": "display_data"
    }
   ],
   "source": [
    "## Graficamente\n",
    "x = np.linspace(-1, 1)\n",
    "plt.grid()\n",
    "plt.plot(x, f(x))"
   ]
  },
  {
   "cell_type": "code",
   "execution_count": 19,
   "id": "81be4aff",
   "metadata": {},
   "outputs": [
    {
     "data": {
      "text/plain": [
       "0.6931471805599454"
      ]
     },
     "execution_count": 19,
     "metadata": {},
     "output_type": "execute_result"
    }
   ],
   "source": [
    "bissec(f, a, b)"
   ]
  },
  {
   "cell_type": "code",
   "execution_count": 21,
   "id": "d05e97ce",
   "metadata": {},
   "outputs": [
    {
     "data": {
      "text/plain": [
       "0.0"
      ]
     },
     "execution_count": 21,
     "metadata": {},
     "output_type": "execute_result"
    }
   ],
   "source": [
    "f(bissec(f, a, b))"
   ]
  },
  {
   "cell_type": "markdown",
   "id": "92c5d310",
   "metadata": {},
   "source": [
    "2. Determine as raízes reais de f (x) = −0.5x² + 2.5x + 4.5:"
   ]
  },
  {
   "cell_type": "code",
   "execution_count": 22,
   "id": "3f6efcc9",
   "metadata": {},
   "outputs": [
    {
     "data": {
      "text/plain": [
       "<function __main__.<lambda>(x)>"
      ]
     },
     "execution_count": 22,
     "metadata": {},
     "output_type": "execute_result"
    }
   ],
   "source": [
    "f = lambda x: -0.5 * x ** 2 + 2.5 * x + 4.5\n",
    "f"
   ]
  },
  {
   "cell_type": "code",
   "execution_count": 24,
   "id": "a5a2f468",
   "metadata": {},
   "outputs": [
    {
     "data": {
      "text/plain": [
       "[<matplotlib.lines.Line2D at 0x28946355f40>]"
      ]
     },
     "execution_count": 24,
     "metadata": {},
     "output_type": "execute_result"
    },
    {
     "data": {
      "image/png": "[encoded data removed]",
      "text/plain": [
       "<Figure size 432x288 with 1 Axes>"
      ]
     },
     "metadata": {
      "needs_background": "light"
     },
     "output_type": "display_data"
    }
   ],
   "source": [
    "## Graficamente;\n",
    "fun = np.linspace(-5, 10, 100)\n",
    "plt.grid()\n",
    "plt.plot(fun, f(fun))"
   ]
  },
  {
   "cell_type": "code",
   "execution_count": 25,
   "id": "d153383e",
   "metadata": {},
   "outputs": [
    {
     "name": "stdout",
     "output_type": "stream",
     "text": [
      "A =  -0.5 \n",
      "B =  2.5 \n",
      "C =  4.5\n"
     ]
    }
   ],
   "source": [
    "## Usando a fórmula quadrática;\n",
    "a = -0.5\n",
    "b = 2.5\n",
    "c = 4.5\n",
    "print('A = ', a, '\\nB = ', b, '\\nC = ', c)"
   ]
  },
  {
   "cell_type": "code",
   "execution_count": 37,
   "id": "84fe52da",
   "metadata": {},
   "outputs": [
    {
     "name": "stdout",
     "output_type": "stream",
     "text": [
      "Para: a = -0.5 ; b = 2.5 ; c = 4.5\n",
      "\n",
      "Valor de x1: -1.405124837953327\n",
      "Valor de x2: 6.405124837953327\n"
     ]
    }
   ],
   "source": [
    "def raizes(a, b, c):\n",
    "    D = (b**2 - 4*a*c)\n",
    "    x1 = (-b + D**(1/2)) / (2*a)\n",
    "    x2 = (-b - D**(1/2)) / (2*a)\n",
    "\n",
    "    print('Para: a =',a,'; b =',b,'; c =',c)\n",
    "    print('\\nValor de x1: {0}'.format(x1))\n",
    "    print('Valor de x2: {0}'.format(x2))\n",
    "    \n",
    "raizes(a,b,c)"
   ]
  },
  {
   "cell_type": "code",
   "execution_count": 38,
   "id": "edc95e8f",
   "metadata": {},
   "outputs": [],
   "source": [
    "## Usando três iterações do método da bisseção para determinar a maior raiz\n",
    "def new_bissec(f, a, b, n):\n",
    "    if n == 0:\n",
    "        return\n",
    "\n",
    "    if np.sign(f(a)) * np.sign(f(b)) != -1:\n",
    "        return\n",
    "    else:\n",
    "        for i in range(2, n + 1):\n",
    "            x = (a + b) / 2\n",
    "\n",
    "            if f(x) == 0:\n",
    "                return x\n",
    "            else:\n",
    "                if np.sign(f(a)) * np.sign(f(x)) == -1:\n",
    "                    b = x\n",
    "                else:\n",
    "                    a = x\n",
    "\n",
    "    return (a + b) / 2"
   ]
  },
  {
   "cell_type": "code",
   "execution_count": 41,
   "id": "a9ab4022",
   "metadata": {},
   "outputs": [
    {
     "data": {
      "text/plain": [
       "[7.5, 6.25, 6.875]"
      ]
     },
     "execution_count": 41,
     "metadata": {},
     "output_type": "execute_result"
    }
   ],
   "source": [
    "## Testando\n",
    "x1 = 5\n",
    "xu = 10\n",
    "res = []\n",
    "\n",
    "for i in range(1, 4):\n",
    "    res.append(new_bissec(f, x1, xu, i))\n",
    "\n",
    "res"
   ]
  },
  {
   "cell_type": "code",
   "execution_count": 48,
   "id": "049190d9",
   "metadata": {},
   "outputs": [
    {
     "name": "stdout",
     "output_type": "stream",
     "text": [
      "Erro nas iterações 1 e 2 : 0.2\n",
      "Erro nas iterações 2 e 3 : 0.09090909090909091\n"
     ]
    }
   ],
   "source": [
    "## Erros relativoss nas iteraçõess\n",
    "def erro_rel(l):\n",
    "    for i in range(len(l) - 1):\n",
    "        err = np.abs((res[i + 1] - res[i]) / res[i + 1])\n",
    "\n",
    "        print('Erro nas iterações', i + 1, 'e', i + 2,':', err)\n",
    "              \n",
    "erro_rel(res)"
   ]
  },
  {
   "cell_type": "code",
   "execution_count": 51,
   "id": "feab9c2c",
   "metadata": {},
   "outputs": [
    {
     "name": "stdout",
     "output_type": "stream",
     "text": [
      "Para: a = -0.5 ; b = 2.5 ; c = 4.5\n",
      "\n",
      "Valor de x1: -1.405124837953327\n",
      "Valor de x2: 6.405124837953327\n"
     ]
    }
   ],
   "source": [
    "## Comparando com os valores do item b\n",
    "raizes(a,b,c)"
   ]
  },
  {
   "cell_type": "code",
   "execution_count": 56,
   "id": "71efc1fd",
   "metadata": {},
   "outputs": [
    {
     "name": "stdout",
     "output_type": "stream",
     "text": [
      "Erro na iteração 1 : 6.337604031627773\n",
      "Erro na iteração 2 : 5.448003359689811\n",
      "Erro na iteração 3 : 5.892803695658793\n"
     ]
    }
   ],
   "source": [
    "def err_comparando(x):\n",
    "    for i in range(len(res)):\n",
    "        e = np.abs((x - res[i]) / x)\n",
    "\n",
    "        print('Erro na iteração', i + 1,':', e)\n",
    "        \n",
    "## P/ x1\n",
    "err_comparando(-1.405124837953327)"
   ]
  },
  {
   "cell_type": "code",
   "execution_count": 57,
   "id": "9acb8fac",
   "metadata": {},
   "outputs": [
    {
     "name": "stdout",
     "output_type": "stream",
     "text": [
      "Erro na iteração 1 : 0.17093736496110604\n",
      "Erro na iteração 2 : 0.024218862532411636\n",
      "Erro na iteração 3 : 0.0733592512143472\n"
     ]
    }
   ],
   "source": [
    "## P/ x2\n",
    "err_comparando(6.405124837953327)"
   ]
  },
  {
   "cell_type": "markdown",
   "id": "31288d4e",
   "metadata": {},
   "source": [
    "3. Localize a primeira raiz não-trivial de sin x = x³, onde x está em radianos. Use uma técnica gráfica e a bisseção com o intervalo inicial de 0, 5 a 1. Faça os cálculos até que o erro seja inferior a 2%."
   ]
  },
  {
   "cell_type": "code",
   "execution_count": 58,
   "id": "5c3aaf05",
   "metadata": {},
   "outputs": [
    {
     "data": {
      "text/plain": [
       "<function __main__.<lambda>(x)>"
      ]
     },
     "execution_count": 58,
     "metadata": {},
     "output_type": "execute_result"
    }
   ],
   "source": [
    "## Graficamente\n",
    "f = lambda x: -x ** 3 + np.sin(x)\n",
    "f"
   ]
  },
  {
   "cell_type": "code",
   "execution_count": 61,
   "id": "c62d11fd",
   "metadata": {},
   "outputs": [
    {
     "data": {
      "text/plain": [
       "[<matplotlib.lines.Line2D at 0x2894663d8e0>]"
      ]
     },
     "execution_count": 61,
     "metadata": {},
     "output_type": "execute_result"
    },
    {
     "data": {
      "image/png": "[encoded data removed]",
      "text/plain": [
       "<Figure size 720x504 with 1 Axes>"
      ]
     },
     "metadata": {
      "needs_background": "light"
     },
     "output_type": "display_data"
    }
   ],
   "source": [
    "x = np.linspace(-1.5, 1.5, 100)\n",
    "plt.figure(figsize=(10, 7))\n",
    "plt.grid()\n",
    "plt.plot(x, f(x))"
   ]
  },
  {
   "cell_type": "code",
   "execution_count": 65,
   "id": "b18edf20",
   "metadata": {},
   "outputs": [
    {
     "name": "stdout",
     "output_type": "stream",
     "text": [
      "Primeira raíz é em 𝑥 ~= 0.921875\n"
     ]
    }
   ],
   "source": [
    "## Com a formula usada anteriormente, temos que:\n",
    "print('Primeira raíz é em 𝑥 ~=',bissec(f, 0.5, 1, 0.02))"
   ]
  },
  {
   "cell_type": "markdown",
   "id": "a966f83f",
   "metadata": {},
   "source": [
    "4. Dada f (x) = −2x^6 − 1.5x^4 + 10x + 20, encontre o máximo dessa função ( f0(x) = 0) usando o método da bisseção, considerando o intervalo [0, 1] e um erro limite de 5%."
   ]
  },
  {
   "cell_type": "code",
   "execution_count": 67,
   "id": "1cece014",
   "metadata": {},
   "outputs": [
    {
     "data": {
      "text/plain": [
       "<function __main__.<lambda>(x)>"
      ]
     },
     "execution_count": 67,
     "metadata": {},
     "output_type": "execute_result"
    }
   ],
   "source": [
    "x = lambda x: -12 * x ** 5 - 6 * x ** 3 + 10\n",
    "x"
   ]
  },
  {
   "cell_type": "code",
   "execution_count": 68,
   "id": "9e3e5a2d",
   "metadata": {},
   "outputs": [
    {
     "data": {
      "text/plain": [
       "0.84375"
      ]
     },
     "execution_count": 68,
     "metadata": {},
     "output_type": "execute_result"
    }
   ],
   "source": [
    "bissec(x, 0, 1, 0.05)"
   ]
  },
  {
   "cell_type": "markdown",
   "id": "0a189f15",
   "metadata": {},
   "source": [
    "5. (texto grande) "
   ]
  },
  {
   "cell_type": "code",
   "execution_count": 69,
   "id": "8e5a8d75",
   "metadata": {},
   "outputs": [],
   "source": [
    "## falsa possição\n",
    "def pos_falsa(f, a, b, n):\n",
    "    if n == 0:\n",
    "        return\n",
    "\n",
    "    if np.sign(f(a)) * np.sign(f(b)) != -1:\n",
    "        return\n",
    "    else:\n",
    "        for i in range(2, n + 1):\n",
    "            x = b - (f(b) * (a - b)) / (f(a) - f(b))\n",
    "\n",
    "            if f(x) == 0:\n",
    "                return x\n",
    "            else:\n",
    "                if np.sign(f(a)) * np.sign(f(x)) == -1:\n",
    "                    b = x\n",
    "                else:\n",
    "                    a = x\n",
    "\n",
    "    return b - (f(b) * (a - b)) / (f(a) - f(b))"
   ]
  },
  {
   "cell_type": "code",
   "execution_count": 70,
   "id": "e949c906",
   "metadata": {},
   "outputs": [
    {
     "data": {
      "text/plain": [
       "<function __main__.<lambda>(x)>"
      ]
     },
     "execution_count": 70,
     "metadata": {},
     "output_type": "execute_result"
    }
   ],
   "source": [
    "x = lambda x: 2 - np.exp(x)\n",
    "x"
   ]
  },
  {
   "cell_type": "code",
   "execution_count": 94,
   "id": "809acd76",
   "metadata": {},
   "outputs": [
    {
     "data": {
      "text/plain": [
       "0.5819767068693265"
      ]
     },
     "execution_count": 94,
     "metadata": {},
     "output_type": "execute_result"
    }
   ],
   "source": [
    "pos_falsa(x, 0, 1,1)"
   ]
  },
  {
   "cell_type": "code",
   "execution_count": 95,
   "id": "0e1191a5",
   "metadata": {},
   "outputs": [
    {
     "name": "stdout",
     "output_type": "stream",
     "text": [
      "Lista 1 = { [0.5819767068693265, 0.6766927037604051, 0.690745633944098, 0.6927974084413779, 0.6930962538194726, 0.6931397659701672, 0.6931461010527422, 0.6931470233921544, 0.6931471576775495, 0.6931471772284483, 0.6931471800749055, 0.6931471804893273, 0.6931471805496638, 0.6931471805584484, 0.6931471805597273, 0.6931471805599135, 0.6931471805599406, 0.6931471805599446, 0.6931471805599452, 0.6931471805599453] }\n",
      "\n",
      "Lista 2 = { [0.5, 0.75, 0.625, 0.6875, 0.71875, 0.703125, 0.6953125, 0.69140625, 0.693359375, 0.6923828125, 0.69287109375, 0.693115234375, 0.6932373046875, 0.69317626953125, 0.693145751953125, 0.6931610107421875, 0.6931533813476562, 0.6931495666503906, 0.6931476593017578, 0.6931467056274414] }\n"
     ]
    }
   ],
   "source": [
    "## Listas\n",
    "l1 =[]\n",
    "l2 =[]\n",
    "\n",
    "for i in range(20):\n",
    "    # Lista 1 com valores da falsa posicao\n",
    "    l1.append(pos_falsa(x, 0, 1, i + 1))\n",
    "    \n",
    "    # Lista 2 com valores da new_bissec, usada na questao 2\n",
    "    l2.append(new_bissec(x, 0, 1, i + 1))\n",
    "    \n",
    "print('Lista 1 = {',l1,'}\\n\\nLista 2 = {',l2,'}')"
   ]
  },
  {
   "cell_type": "code",
   "execution_count": 96,
   "id": "823e55ed",
   "metadata": {},
   "outputs": [
    {
     "name": "stdout",
     "output_type": "stream",
     "text": [
      "1 °: 0.1399689938501458\n",
      "2 °: 0.020344580541829693\n",
      "3 °: 0.0029615793481327724\n",
      "4 °: 0.0004311744241118024\n",
      "5 °: 6.277543553390576e-05\n",
      "6 °: 9.139606448552753e-06\n",
      "7 °: 1.3306547976871543e-06\n",
      "8 °: 1.9373288002344258e-07\n",
      "9 °: 2.8205984863091844e-08\n",
      "10 °: 4.106569662108366e-09\n",
      "11 °: 5.97884319306425e-10\n",
      "12 °: 8.70471889034295e-11\n",
      "13 °: 1.2673395934419947e-11\n",
      "14 °: 1.8451736661979727e-12\n",
      "15 °: 2.6860731234489315e-13\n",
      "16 °: 3.908180334654226e-14\n",
      "17 °: 5.7661677068668575e-15\n",
      "18 °: 8.008566259537296e-16\n",
      "19 °: 1.6017132519074588e-16\n"
     ]
    }
   ],
   "source": [
    "# Comparando\n",
    "def err(lista):\n",
    "    for i in range(len(lista) - 1):\n",
    "        print(i+1,'°:',np.abs((lista[i + 1] - lista[i]) / lista[i + 1]))\n",
    "        \n",
    "        \n",
    "# P/ LISTA 1\n",
    "err(l1)"
   ]
  },
  {
   "cell_type": "code",
   "execution_count": 97,
   "id": "86daa97c",
   "metadata": {},
   "outputs": [
    {
     "name": "stdout",
     "output_type": "stream",
     "text": [
      "1 °: 0.3333333333333333\n",
      "2 °: 0.2\n",
      "3 °: 0.09090909090909091\n",
      "4 °: 0.043478260869565216\n",
      "5 °: 0.022222222222222223\n",
      "6 °: 0.011235955056179775\n",
      "7 °: 0.005649717514124294\n",
      "8 °: 0.0028169014084507044\n",
      "9 °: 0.0014104372355430183\n",
      "10 °: 0.0007047216349541931\n",
      "11 °: 0.0003522367030644593\n",
      "12 °: 0.00017608733932030288\n",
      "13 °: 8.805142203046579e-05\n",
      "14 °: 4.402764936380047e-05\n",
      "15 °: 2.201334008409096e-05\n",
      "16 °: 1.1006791190164331e-05\n",
      "17 °: 5.503425882611926e-06\n",
      "18 °: 2.7517205132509103e-06\n",
      "19 °: 1.3758621496195053e-06\n"
     ]
    }
   ],
   "source": [
    "# P/ LISTA 2\n",
    "err(l2)"
   ]
  },
  {
   "cell_type": "markdown",
   "id": "58331ad7",
   "metadata": {},
   "source": [
    "Quando comparamos, vemos que o método da falsa posição nos retorna o resultado com menos iterações, validando sua eficiencia."
   ]
  }
 ],
 "metadata": {
  "kernelspec": {
   "display_name": "Python 3",
   "language": "python",
   "name": "python3"
  },
  "language_info": {
   "codemirror_mode": {
    "name": "ipython",
    "version": 3
   },
   "file_extension": ".py",
   "mimetype": "text/x-python",
   "name": "python",
   "nbconvert_exporter": "python",
   "pygments_lexer": "ipython3",
   "version": "3.8.8"
  }
 },
 "nbformat": 4,
 "nbformat_minor": 5
}
