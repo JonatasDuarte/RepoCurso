{
 "cells": [
  {
   "cell_type": "markdown",
   "id": "9ce09dee",
   "metadata": {},
   "source": [
    "<div class=\"alert alert-block alert-info\">\n",
    "<center>MÉTODOS NUMÉRICOS</center>\n",
    "<center>LISTA 6 b</center>\n",
    "<center>ALUNO: JONATAS DA SILVA DUARTE</center>\n",
    "</div>\n"
   ]
  },
  {
   "cell_type": "code",
   "execution_count": 1,
   "id": "796b54f6",
   "metadata": {},
   "outputs": [
    {
     "data": {
      "text/plain": [
       "'1.20.1'"
      ]
     },
     "execution_count": 1,
     "metadata": {},
     "output_type": "execute_result"
    }
   ],
   "source": [
    "import numpy as np\n",
    "import random as rn\n",
    "import matplotlib.pyplot as plt\n",
    "\n",
    "np.__version__"
   ]
  },
  {
   "cell_type": "markdown",
   "id": "3c3facba",
   "metadata": {},
   "source": [
    "1. Implemente os algoritmos da iteração de ponto fixo, Newton-Raphson e secante usando somente a biblioteca Numpy."
   ]
  },
  {
   "cell_type": "code",
   "execution_count": 2,
   "id": "d7285f37",
   "metadata": {},
   "outputs": [],
   "source": [
    "## PONTO FIXO\n",
    "def ponto_fixo(g, x0, tt=1e-10, max_it=200):\n",
    "    converg = True\n",
    "    err = 1\n",
    "    iteracoes = 0\n",
    "    x1 = 0\n",
    "\n",
    "    while(1):\n",
    "        x1 = g(x0)\n",
    "        err = np.abs((x1 - x0)/x1)        \n",
    "        x0 = x1\n",
    "        iteracoes += 1\n",
    "\n",
    "        if err <= tt:\n",
    "            break\n",
    "            \n",
    "        if iteracoes >= max_it:\n",
    "            converg = False\n",
    "            break\n",
    "\n",
    "    return {\n",
    "        'convergidos': converg,\n",
    "        'iteracoes': iteracoes,\n",
    "        'ponto': x1\n",
    "    }"
   ]
  },
  {
   "cell_type": "code",
   "execution_count": 3,
   "id": "adf54725",
   "metadata": {},
   "outputs": [
    {
     "data": {
      "text/plain": [
       "<function __main__.<lambda>(x)>"
      ]
     },
     "execution_count": 3,
     "metadata": {},
     "output_type": "execute_result"
    }
   ],
   "source": [
    "g = lambda x: np.exp(-x)\n",
    "g"
   ]
  },
  {
   "cell_type": "code",
   "execution_count": 4,
   "id": "472e9e0e",
   "metadata": {},
   "outputs": [
    {
     "name": "stdout",
     "output_type": "stream",
     "text": [
      "Com o algoritmo do PONTO FIXO: \n",
      " {'convergidos': True, 'iteracoes': 43, 'ponto': 0.567143290426651}\n",
      "Wall time: 0 ns\n"
     ]
    }
   ],
   "source": [
    "%%time\n",
    "print(\"Com o algoritmo do PONTO FIXO: \\n\", ponto_fixo(g, 0))"
   ]
  },
  {
   "cell_type": "code",
   "execution_count": 5,
   "id": "4f10c558",
   "metadata": {},
   "outputs": [],
   "source": [
    "## NEWTON-RAPHSON\n",
    "def newton_raph(f, df, x, tt=1e-10):\n",
    "    err = 1\n",
    "    \n",
    "    if f(x) == 0:\n",
    "        return x\n",
    "    \n",
    "    while(1):\n",
    "        x_ant = x\n",
    "        x = x - f(x) / df(x)\n",
    "        err = np.abs((x - x_ant) / x)\n",
    "        if err <= tt:\n",
    "            break\n",
    "            \n",
    "    return x"
   ]
  },
  {
   "cell_type": "code",
   "execution_count": 6,
   "id": "50e2a184",
   "metadata": {},
   "outputs": [
    {
     "data": {
      "text/plain": [
       "<function __main__.<lambda>(x)>"
      ]
     },
     "execution_count": 6,
     "metadata": {},
     "output_type": "execute_result"
    }
   ],
   "source": [
    "f = lambda x: np.exp(-x) - x\n",
    "f"
   ]
  },
  {
   "cell_type": "code",
   "execution_count": 7,
   "id": "95adde6a",
   "metadata": {},
   "outputs": [
    {
     "data": {
      "text/plain": [
       "<function __main__.<lambda>(x)>"
      ]
     },
     "execution_count": 7,
     "metadata": {},
     "output_type": "execute_result"
    }
   ],
   "source": [
    "df = lambda x: -np.exp(-x) - 1\n",
    "df"
   ]
  },
  {
   "cell_type": "code",
   "execution_count": 8,
   "id": "db7981b6",
   "metadata": {},
   "outputs": [
    {
     "name": "stdout",
     "output_type": "stream",
     "text": [
      "Com o algoritmo de NEWTON-RAPHSON: \n",
      " 0.567143290409784\n",
      "Wall time: 0 ns\n"
     ]
    }
   ],
   "source": [
    "%%time\n",
    "print(\"Com o algoritmo de NEWTON-RAPHSON: \\n\", newton_raph(f, df, 0))"
   ]
  },
  {
   "cell_type": "code",
   "execution_count": 9,
   "id": "be888188",
   "metadata": {},
   "outputs": [],
   "source": [
    "## SECANTE\n",
    "def secante(f, x0, x1, tt=1e-10):\n",
    "    x2 = 0\n",
    "    \n",
    "    if f(x0) == 0:\n",
    "        return x0\n",
    "    \n",
    "    if f(x1) == 0:\n",
    "        return x1\n",
    "\n",
    "    while(1):\n",
    "        if f(x1) == f(x0):\n",
    "            return\n",
    "\n",
    "        ##x2 = (x0 - ((x1 - x0) * f(x0))) / (f(x1) - f(x0))\n",
    "        x2 = x0 - (x1 - x0) * f(x0) / (f(x1) - f(x0))\n",
    "        \n",
    "        err = np.abs((x2 - x1) / x2)\n",
    "        \n",
    "        if err <= tt:\n",
    "            break\n",
    "        \n",
    "        x0 = x1\n",
    "        x1 = x2\n",
    "\n",
    "    return x2"
   ]
  },
  {
   "cell_type": "code",
   "execution_count": 10,
   "id": "30e63234",
   "metadata": {},
   "outputs": [
    {
     "name": "stdout",
     "output_type": "stream",
     "text": [
      "Com o algoritmo da SECANTE: \n",
      " 0.5671432904097838\n",
      "Wall time: 0 ns\n"
     ]
    }
   ],
   "source": [
    "%%time\n",
    "print(\"Com o algoritmo da SECANTE: \\n\", secante(f, -1, 0))"
   ]
  },
  {
   "cell_type": "markdown",
   "id": "dfe11417",
   "metadata": {},
   "source": [
    "2. Use a iteração de ponto fixo simples para localizar a raiz de f (x) = 2 sin(px)− x, tendo x0 = 0, 5e adotando como critério de parada o erro ea ≤ 0, 001%.\n"
   ]
  },
  {
   "cell_type": "code",
   "execution_count": 11,
   "id": "bdabf15e",
   "metadata": {},
   "outputs": [],
   "source": [
    "g = lambda x: 2 * np.sin(np.sqrt(x))"
   ]
  },
  {
   "cell_type": "code",
   "execution_count": 12,
   "id": "1e14c115",
   "metadata": {},
   "outputs": [
    {
     "name": "stdout",
     "output_type": "stream",
     "text": [
      "Wall time: 0 ns\n"
     ]
    },
    {
     "data": {
      "text/plain": [
       "{'convergidos': True, 'iteracoes': 8, 'ponto': 1.9723804860817313}"
      ]
     },
     "execution_count": 12,
     "metadata": {},
     "output_type": "execute_result"
    }
   ],
   "source": [
    "%%time\n",
    "ponto_fixo(g, 0.5, 0.00001)"
   ]
  },
  {
   "cell_type": "markdown",
   "id": "e559db4a",
   "metadata": {},
   "source": [
    "3. Determine a maior raiz real de f (x) = 2x³ − 11.7x² + 17.7x − 5"
   ]
  },
  {
   "cell_type": "code",
   "execution_count": 13,
   "id": "176b0636",
   "metadata": {},
   "outputs": [
    {
     "data": {
      "text/plain": [
       "<function __main__.<lambda>(x)>"
      ]
     },
     "execution_count": 13,
     "metadata": {},
     "output_type": "execute_result"
    }
   ],
   "source": [
    "f = lambda x: (2 * x ** 3 - 11.7 * x ** 2 + 17.7 * x - 5)\n",
    "f"
   ]
  },
  {
   "cell_type": "code",
   "execution_count": 14,
   "id": "cde14e1f",
   "metadata": {},
   "outputs": [
    {
     "data": {
      "text/plain": [
       "<function __main__.<lambda>(y)>"
      ]
     },
     "execution_count": 14,
     "metadata": {},
     "output_type": "execute_result"
    }
   ],
   "source": [
    "df = lambda y: (6 * y ** 2 - 23.4 * y + 17.7)\n",
    "df"
   ]
  },
  {
   "cell_type": "code",
   "execution_count": 15,
   "id": "caaf5ded",
   "metadata": {},
   "outputs": [
    {
     "data": {
      "text/plain": [
       "<function __main__.<lambda>(z)>"
      ]
     },
     "execution_count": 15,
     "metadata": {},
     "output_type": "execute_result"
    }
   ],
   "source": [
    "g = lambda z: ((2 * z ** 3 - 11.7 * z ** 2 - 5) / -17.7)\n",
    "g"
   ]
  },
  {
   "cell_type": "code",
   "execution_count": 16,
   "id": "f4ad4ae9",
   "metadata": {},
   "outputs": [
    {
     "name": "stdout",
     "output_type": "stream",
     "text": [
      "Wall time: 0 ns\n"
     ]
    },
    {
     "data": {
      "text/plain": [
       "3.5631608248620537"
      ]
     },
     "execution_count": 16,
     "metadata": {},
     "output_type": "execute_result"
    }
   ],
   "source": [
    "%%time\n",
    "fun = secante(f, 3, 4)\n",
    "fun"
   ]
  },
  {
   "cell_type": "code",
   "execution_count": 17,
   "id": "92ffc5b4",
   "metadata": {
    "scrolled": true
   },
   "outputs": [
    {
     "data": {
      "text/plain": [
       "array([0.        , 0.04040404, 0.08080808, 0.12121212, 0.16161616,\n",
       "       0.2020202 , 0.24242424, 0.28282828, 0.32323232, 0.36363636,\n",
       "       0.4040404 , 0.44444444, 0.48484848, 0.52525253, 0.56565657,\n",
       "       0.60606061, 0.64646465, 0.68686869, 0.72727273, 0.76767677,\n",
       "       0.80808081, 0.84848485, 0.88888889, 0.92929293, 0.96969697,\n",
       "       1.01010101, 1.05050505, 1.09090909, 1.13131313, 1.17171717,\n",
       "       1.21212121, 1.25252525, 1.29292929, 1.33333333, 1.37373737,\n",
       "       1.41414141, 1.45454545, 1.49494949, 1.53535354, 1.57575758,\n",
       "       1.61616162, 1.65656566, 1.6969697 , 1.73737374, 1.77777778,\n",
       "       1.81818182, 1.85858586, 1.8989899 , 1.93939394, 1.97979798,\n",
       "       2.02020202, 2.06060606, 2.1010101 , 2.14141414, 2.18181818,\n",
       "       2.22222222, 2.26262626, 2.3030303 , 2.34343434, 2.38383838,\n",
       "       2.42424242, 2.46464646, 2.50505051, 2.54545455, 2.58585859,\n",
       "       2.62626263, 2.66666667, 2.70707071, 2.74747475, 2.78787879,\n",
       "       2.82828283, 2.86868687, 2.90909091, 2.94949495, 2.98989899,\n",
       "       3.03030303, 3.07070707, 3.11111111, 3.15151515, 3.19191919,\n",
       "       3.23232323, 3.27272727, 3.31313131, 3.35353535, 3.39393939,\n",
       "       3.43434343, 3.47474747, 3.51515152, 3.55555556, 3.5959596 ,\n",
       "       3.63636364, 3.67676768, 3.71717172, 3.75757576, 3.7979798 ,\n",
       "       3.83838384, 3.87878788, 3.91919192, 3.95959596, 4.        ])"
      ]
     },
     "execution_count": 17,
     "metadata": {},
     "output_type": "execute_result"
    }
   ],
   "source": [
    "x = np.linspace(0, 4, 100)\n",
    "x"
   ]
  },
  {
   "cell_type": "code",
   "execution_count": 18,
   "id": "f7c609cf",
   "metadata": {},
   "outputs": [
    {
     "name": "stdout",
     "output_type": "stream",
     "text": [
      "Wall time: 30.9 ms\n"
     ]
    },
    {
     "data": {
      "text/plain": [
       "[<matplotlib.lines.Line2D at 0x23243561400>]"
      ]
     },
     "execution_count": 18,
     "metadata": {},
     "output_type": "execute_result"
    },
    {
     "data": {
      "image/png": "[encoded data removed]",
      "text/plain": [
       "<Figure size 720x504 with 1 Axes>"
      ]
     },
     "metadata": {
      "needs_background": "light"
     },
     "output_type": "display_data"
    }
   ],
   "source": [
    "%%time\n",
    "# Graficamente\n",
    "plt.figure(figsize=(10, 7))\n",
    "plt.grid()\n",
    "plt.plot(x, f(x))\n",
    "plt.plot(fun, 0, 'o')"
   ]
  },
  {
   "cell_type": "code",
   "execution_count": 19,
   "id": "e72cbe3b",
   "metadata": {},
   "outputs": [
    {
     "name": "stdout",
     "output_type": "stream",
     "text": [
      "PONTO FIXO: \n",
      "\n",
      " {'convergidos': False, 'iteracoes': 3, 'ponto': 3.442543246990202}\n",
      "Wall time: 2 ms\n"
     ]
    }
   ],
   "source": [
    "%%time\n",
    "## Ponto fixo\n",
    "print(\"PONTO FIXO: \\n\\n\", ponto_fixo(g, 3, max_it=3))"
   ]
  },
  {
   "cell_type": "code",
   "execution_count": 20,
   "id": "9cc9af27",
   "metadata": {},
   "outputs": [
    {
     "name": "stdout",
     "output_type": "stream",
     "text": [
      "NEWTON-RAPHSON: \n",
      "\n",
      " 3.5631608248620537\n",
      "Wall time: 997 µs\n"
     ]
    }
   ],
   "source": [
    "%%time\n",
    "## Newton-Raphson\n",
    "print(\"NEWTON-RAPHSON: \\n\\n\",newton_raph(f, df, 3))"
   ]
  },
  {
   "cell_type": "code",
   "execution_count": 21,
   "id": "eb4a4d7e",
   "metadata": {},
   "outputs": [
    {
     "name": "stdout",
     "output_type": "stream",
     "text": [
      "SECANTE: \n",
      "\n",
      " 3.5631608248620537\n",
      "Wall time: 0 ns\n"
     ]
    }
   ],
   "source": [
    "%%time\n",
    "## Secante\n",
    "print(\"SECANTE: \\n\\n\", secante(f, 3, 4))"
   ]
  }
 ],
 "metadata": {
  "kernelspec": {
   "display_name": "Python 3",
   "language": "python",
   "name": "python3"
  },
  "language_info": {
   "codemirror_mode": {
    "name": "ipython",
    "version": 3
   },
   "file_extension": ".py",
   "mimetype": "text/x-python",
   "name": "python",
   "nbconvert_exporter": "python",
   "pygments_lexer": "ipython3",
   "version": "3.8.8"
  }
 },
 "nbformat": 4,
 "nbformat_minor": 5
}
