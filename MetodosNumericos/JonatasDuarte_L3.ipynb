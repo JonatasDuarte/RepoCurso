{
 "cells": [
  {
   "cell_type": "markdown",
   "id": "44e4a487",
   "metadata": {},
   "source": [
    "<div class=\"alert alert-block alert-info\">\n",
    "<center>MÉTODOS NUMÉRICOS</center>\n",
    "<center>LISTA 3</center>\n",
    "<center>ALUNO: JONATAS DA SILVA DUARTE</center>\n",
    "</div>\n"
   ]
  },
  {
   "cell_type": "code",
   "execution_count": 1,
   "id": "c58bc2d1",
   "metadata": {},
   "outputs": [
    {
     "data": {
      "text/plain": [
       "'1.20.1'"
      ]
     },
     "execution_count": 1,
     "metadata": {},
     "output_type": "execute_result"
    }
   ],
   "source": [
    "import numpy as np\n",
    "import random as rn\n",
    "import matplotlib.pyplot as plt\n",
    "\n",
    "np.__version__"
   ]
  },
  {
   "cell_type": "code",
   "execution_count": 2,
   "id": "6d30149f",
   "metadata": {},
   "outputs": [],
   "source": [
    "def taylor(x,n): \n",
    "    return ((-1)**n * (x)**(2*n+1)) / np.math.factorial(2*n+1)"
   ]
  },
  {
   "cell_type": "code",
   "execution_count": 25,
   "id": "2e03ffb6",
   "metadata": {},
   "outputs": [
    {
     "data": {
      "text/plain": [
       "[-0.021333284500149766,\n",
       " 4.266666662392129e-05,\n",
       " -4.063492063490284e-08,\n",
       " 2.257495590828925e-11,\n",
       " -8.209074875741547e-15,\n",
       " 2.104890993779884e-18,\n",
       " -4.0093161786283514e-22,\n",
       " 5.896053203865223e-26,\n",
       " -6.89596865949149e-30,\n",
       " 6.567589199515705e-34,\n",
       " -5.191770118194234e-38,\n",
       " 3.461180078796157e-42,\n",
       " -1.9721823810804313e-46,\n",
       " 9.715184143253357e-51,\n",
       " -4.1785738250552074e-55,\n",
       " 1.5827931155512153e-59,\n",
       " -5.320312993449463e-64,\n",
       " 1.5976915896244638e-68,\n",
       " -4.3122580016854626e-73,\n",
       " 1.0517702443135276e-77]"
      ]
     },
     "execution_count": 25,
     "metadata": {},
     "output_type": "execute_result"
    }
   ],
   "source": [
    "## Machin\n",
    "formulaMachin = []\n",
    "for i in range(1, 21):\n",
    "    mch_1 = taylor(1/5, i)\n",
    "    mch_2 = taylor(1/239, i)\n",
    "    machin = 4*(4*mch_1 - mch_2)\n",
    "    formulaMachin.append(machin)\n",
    "    \n",
    "formulaMachin"
   ]
  },
  {
   "cell_type": "code",
   "execution_count": 26,
   "id": "43dbc3fb",
   "metadata": {},
   "outputs": [
    {
     "data": {
      "text/plain": [
       "[<matplotlib.lines.Line2D at 0x210da470400>]"
      ]
     },
     "execution_count": 26,
     "metadata": {},
     "output_type": "execute_result"
    },
    {
     "data": {
      "image/png": "[encoded data removed]",
      "text/plain": [
       "<Figure size 432x288 with 1 Axes>"
      ]
     },
     "metadata": {
      "needs_background": "light"
     },
     "output_type": "display_data"
    }
   ],
   "source": []
  },
  {
   "cell_type": "code",
   "execution_count": 23,
   "id": "52891280",
   "metadata": {},
   "outputs": [
    {
     "data": {
      "text/plain": [
       "[-0.014660493827160493,\n",
       " 0.00022612311385459535,\n",
       " -1.459375521661187e-06,\n",
       " 5.242283224687801e-09,\n",
       " -1.2091054912481043e-11,\n",
       " 1.9502598582232724e-14,\n",
       " -2.328399726316555e-17,\n",
       " 2.1427946013368168e-20,\n",
       " -1.5672544433009012e-23,\n",
       " 9.331234439453166e-27,\n",
       " -4.610807297405378e-30,\n",
       " 1.9212648187380517e-33,\n",
       " -6.842261718338758e-37,\n",
       " 2.1066282713134786e-40,\n",
       " -5.663003834965923e-44,\n",
       " 1.3406758459257457e-47,\n",
       " -2.8165483126747856e-51,\n",
       " 5.2863164175767986e-55,\n",
       " -8.917539328579028e-59,\n",
       " 1.3593810976596709e-62]"
      ]
     },
     "execution_count": 23,
     "metadata": {},
     "output_type": "execute_result"
    }
   ],
   "source": [
    "## Hutton\n",
    "formulaHutton = []\n",
    "for i in range(1, 21):\n",
    "    p_1 = taylor(1/2, i)\n",
    "    p_2 = taylor(1/3, i)\n",
    "    hutton = p_1 - p_2\n",
    "    formulaHutton.append(hutton)\n",
    "    \n",
    "formulaHutton"
   ]
  },
  {
   "cell_type": "code",
   "execution_count": 22,
   "id": "7b97db4f",
   "metadata": {},
   "outputs": [
    {
     "data": {
      "text/plain": [
       "[-0.04743908145268688,\n",
       " 0.00027236512188769725,\n",
       " -7.248257745843914e-07,\n",
       " 1.1197723315515782e-09,\n",
       " -1.1313084020405296e-12,\n",
       " 8.058046812271064e-16,\n",
       " -4.263545467553712e-19,\n",
       " 1.7416465388748016e-22,\n",
       " -5.658372103650221e-26,\n",
       " 1.4969238992425913e-29,\n",
       " -3.287052943972545e-33,\n",
       " 6.087135089976992e-37,\n",
       " -9.634591787823249e-41,\n",
       " 1.3183623136671585e-44,\n",
       " -1.5751043174177153e-48,\n",
       " 1.6573067312923317e-52,\n",
       " -1.5474385913098206e-56,\n",
       " 1.290822982407327e-60,\n",
       " -9.677785143254909e-65,\n",
       " 6.556765002205234e-69]"
      ]
     },
     "execution_count": 22,
     "metadata": {},
     "output_type": "execute_result"
    }
   ],
   "source": [
    "## Clausen\n",
    "formulaClausen = []\n",
    "for i in range(1, 21):\n",
    "    p_1 = taylor(1/3, i)\n",
    "    p_2 = taylor(1/7, i)\n",
    "    clausen = 4*(2*p_1 - p_2)\n",
    "    formulaClausen.append(clausen)\n",
    "    \n",
    "formulaClausen"
   ]
  },
  {
   "cell_type": "code",
   "execution_count": 21,
   "id": "4c0e8893",
   "metadata": {},
   "outputs": [
    {
     "data": {
      "text/plain": [
       "[-0.07669791666666667,\n",
       " 0.0010299827473958334,\n",
       " -6.189859653049045e-06,\n",
       " 2.152342977755074e-08,\n",
       " -4.892783525579988e-11,\n",
       " 7.841277259328286e-14,\n",
       " -9.334906632834846e-17,\n",
       " 8.579885165946026e-20,\n",
       " -6.271846786977632e-23,\n",
       " 3.733242221318075e-26,\n",
       " -1.8444872703116633e-29,\n",
       " 7.6853636308415e-33,\n",
       " -2.7369528602451407e-36,\n",
       " 8.426579003345311e-40,\n",
       " -2.265209409506912e-43,\n",
       " 5.362711670236243e-47,\n",
       " -1.1266200987891965e-50,\n",
       " 2.1145272124422066e-54,\n",
       " -3.567016215320867e-58,\n",
       " 5.4375247184769334e-62]"
      ]
     },
     "execution_count": 21,
     "metadata": {},
     "output_type": "execute_result"
    }
   ],
   "source": [
    "##  Dase\n",
    "formulaDase = []\n",
    "for i in range(1, 21):\n",
    "    p_1 = taylor(1/2, i)\n",
    "    p_2 = taylor(1/5, i)\n",
    "    p_3 = taylor(1/8, i)\n",
    "    dase = 4*(p_1 - p_2 - p_3)\n",
    "    formulaDase.append(dase)\n",
    "    \n",
    "formulaDase"
   ]
  },
  {
   "cell_type": "code",
   "execution_count": null,
   "id": "be335f5e",
   "metadata": {},
   "outputs": [],
   "source": []
  }
 ],
 "metadata": {
  "kernelspec": {
   "display_name": "Python 3",
   "language": "python",
   "name": "python3"
  },
  "language_info": {
   "codemirror_mode": {
    "name": "ipython",
    "version": 3
   },
   "file_extension": ".py",
   "mimetype": "text/x-python",
   "name": "python",
   "nbconvert_exporter": "python",
   "pygments_lexer": "ipython3",
   "version": "3.8.8"
  }
 },
 "nbformat": 4,
 "nbformat_minor": 5
}
