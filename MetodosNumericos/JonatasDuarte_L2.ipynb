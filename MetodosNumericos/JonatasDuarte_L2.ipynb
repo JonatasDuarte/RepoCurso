{
 "cells": [
  {
   "cell_type": "markdown",
   "id": "b3518757",
   "metadata": {},
   "source": [
    "<div class=\"alert alert-block alert-info\">\n",
    "<center>MÉTODOS NUMÉRICOS</center>\n",
    "<center>LISTA 2</center>\n",
    "<center>ALUNO: JONATAS DA SILVA DUARTE</center>\n",
    "</div>\n"
   ]
  },
  {
   "cell_type": "code",
   "execution_count": 1,
   "id": "bd893448",
   "metadata": {},
   "outputs": [
    {
     "data": {
      "text/plain": [
       "'1.20.1'"
      ]
     },
     "execution_count": 1,
     "metadata": {},
     "output_type": "execute_result"
    }
   ],
   "source": [
    "import numpy as np\n",
    "import random as rn\n",
    "import matplotlib.pyplot as plt\n",
    "\n",
    "np.__version__"
   ]
  },
  {
   "cell_type": "markdown",
   "id": "910edef2",
   "metadata": {},
   "source": [
    "**Exercício 1.1**"
   ]
  },
  {
   "cell_type": "code",
   "execution_count": 68,
   "id": "34f316a6",
   "metadata": {},
   "outputs": [],
   "source": [
    "def erroRel(x, a):\n",
    "    return np.abs(x - a)/np.abs(x)\n",
    "\n",
    "\n",
    "def divMed(x, a):\n",
    "    return (x+(a/x))/2"
   ]
  },
  {
   "cell_type": "code",
   "execution_count": 69,
   "id": "e9d793da",
   "metadata": {},
   "outputs": [
    {
     "name": "stdout",
     "output_type": "stream",
     "text": [
      "Divisão e Média  ( 1 °): 8.5\n",
      "Erro Relativo %  ( 1 °): 52.94117647058824 \n",
      "\n",
      "Divisão e Média  ( 2 °): 5.0\n",
      "Erro Relativo %  ( 2 °): 20.0 \n",
      "\n",
      "Divisão e Média  ( 3 °): 4.166666666666666\n",
      "Erro Relativo %  ( 3 °): 3.9999999999999862 \n",
      "\n",
      "Divisão e Média  ( 4 °): 4.0\n",
      "Erro Relativo %  ( 4 °): 0.0 \n",
      "\n",
      "Divisão e Média  ( 5 °): 4.1\n",
      "Erro Relativo %  ( 5 °): 2.439024390243894 \n",
      "\n",
      "Divisão e Média  ( 6 °): 4.333333333333333\n",
      "Erro Relativo %  ( 6 °): 7.692307692307685 \n",
      "\n",
      "Divisão e Média  ( 7 °): 4.642857142857142\n",
      "Erro Relativo %  ( 7 °): 13.846153846153836 \n",
      "\n",
      "Divisão e Média  ( 8 °): 5.0\n",
      "Erro Relativo %  ( 8 °): 20.0 \n",
      "\n",
      "Divisão e Média  ( 9 °): 5.388888888888889\n",
      "Erro Relativo %  ( 9 °): 25.773195876288664 \n",
      "\n",
      "Divisão e Média  ( 10 °): 5.8\n",
      "Erro Relativo %  ( 10 °): 31.034482758620683 \n",
      "\n"
     ]
    }
   ],
   "source": [
    "a = 4\n",
    "for i in range(10):\n",
    "    x = divMed(i+1,a*a)\n",
    "    print(\"Divisão e Média  (\",i+1,\"°):\",x)\n",
    "    print(\"Erro Relativo %  (\",i+1,\"°):\",erroRel(x,a)*100,\"\\n\")\n",
    "    "
   ]
  },
  {
   "cell_type": "markdown",
   "id": "78001e4a",
   "metadata": {},
   "source": [
    "**Exercício 1.2**\n",
    "\n",
    "Passo 1: Defina e = 1\n",
    "\n",
    "Passo 2: Se 1 + e for menor ou igual a 1, vá para o Passo 5; caso contrário, vá ao Passo 3\n",
    "\n",
    "Passo 3: e = e/2\n",
    "\n",
    "Passo 4: Retorne ao Passo 2\n",
    "\n",
    "Passo 5: e = 2 x e"
   ]
  },
  {
   "cell_type": "code",
   "execution_count": 49,
   "id": "048903cd",
   "metadata": {
    "scrolled": true
   },
   "outputs": [],
   "source": [
    "def episilon(e):\n",
    "    if(1+e<=1):\n",
    "        e = 2*e\n",
    "        print(\"1° caso (menor ou igual): \",e)\n",
    "    else:\n",
    "        e = e/2\n",
    "        print(\"2° caso (maior): \",e)\n",
    "        episilon(e)\n",
    "        "
   ]
  },
  {
   "cell_type": "code",
   "execution_count": 50,
   "id": "93276e6e",
   "metadata": {},
   "outputs": [
    {
     "name": "stdout",
     "output_type": "stream",
     "text": [
      "2° caso (maior):  0.5\n",
      "2° caso (maior):  0.25\n",
      "2° caso (maior):  0.125\n",
      "2° caso (maior):  0.0625\n",
      "2° caso (maior):  0.03125\n",
      "2° caso (maior):  0.015625\n",
      "2° caso (maior):  0.0078125\n",
      "2° caso (maior):  0.00390625\n",
      "2° caso (maior):  0.001953125\n",
      "2° caso (maior):  0.0009765625\n",
      "2° caso (maior):  0.00048828125\n",
      "2° caso (maior):  0.000244140625\n",
      "2° caso (maior):  0.0001220703125\n",
      "2° caso (maior):  6.103515625e-05\n",
      "2° caso (maior):  3.0517578125e-05\n",
      "2° caso (maior):  1.52587890625e-05\n",
      "2° caso (maior):  7.62939453125e-06\n",
      "2° caso (maior):  3.814697265625e-06\n",
      "2° caso (maior):  1.9073486328125e-06\n",
      "2° caso (maior):  9.5367431640625e-07\n",
      "2° caso (maior):  4.76837158203125e-07\n",
      "2° caso (maior):  2.384185791015625e-07\n",
      "2° caso (maior):  1.1920928955078125e-07\n",
      "2° caso (maior):  5.960464477539063e-08\n",
      "2° caso (maior):  2.9802322387695312e-08\n",
      "2° caso (maior):  1.4901161193847656e-08\n",
      "2° caso (maior):  7.450580596923828e-09\n",
      "2° caso (maior):  3.725290298461914e-09\n",
      "2° caso (maior):  1.862645149230957e-09\n",
      "2° caso (maior):  9.313225746154785e-10\n",
      "2° caso (maior):  4.656612873077393e-10\n",
      "2° caso (maior):  2.3283064365386963e-10\n",
      "2° caso (maior):  1.1641532182693481e-10\n",
      "2° caso (maior):  5.820766091346741e-11\n",
      "2° caso (maior):  2.9103830456733704e-11\n",
      "2° caso (maior):  1.4551915228366852e-11\n",
      "2° caso (maior):  7.275957614183426e-12\n",
      "2° caso (maior):  3.637978807091713e-12\n",
      "2° caso (maior):  1.8189894035458565e-12\n",
      "2° caso (maior):  9.094947017729282e-13\n",
      "2° caso (maior):  4.547473508864641e-13\n",
      "2° caso (maior):  2.2737367544323206e-13\n",
      "2° caso (maior):  1.1368683772161603e-13\n",
      "2° caso (maior):  5.684341886080802e-14\n",
      "2° caso (maior):  2.842170943040401e-14\n",
      "2° caso (maior):  1.4210854715202004e-14\n",
      "2° caso (maior):  7.105427357601002e-15\n",
      "2° caso (maior):  3.552713678800501e-15\n",
      "2° caso (maior):  1.7763568394002505e-15\n",
      "2° caso (maior):  8.881784197001252e-16\n",
      "2° caso (maior):  4.440892098500626e-16\n",
      "2° caso (maior):  2.220446049250313e-16\n",
      "2° caso (maior):  1.1102230246251565e-16\n",
      "1° caso (menor ou igual):  2.220446049250313e-16\n"
     ]
    }
   ],
   "source": [
    "episilon(1)"
   ]
  },
  {
   "cell_type": "code",
   "execution_count": 93,
   "id": "49c8092b",
   "metadata": {},
   "outputs": [
    {
     "name": "stdout",
     "output_type": "stream",
     "text": [
      "2.220446049250313e-16\n"
     ]
    }
   ],
   "source": [
    "print(np.finfo(float).eps)"
   ]
  },
  {
   "cell_type": "markdown",
   "id": "8eafba4e",
   "metadata": {},
   "source": [
    "**Exercício 1.3**\n"
   ]
  },
  {
   "cell_type": "code",
   "execution_count": 53,
   "id": "530aec12",
   "metadata": {},
   "outputs": [],
   "source": [
    "def seq(i):\n",
    "    if (i == 1):\n",
    "        return 1/3\n",
    "    else:\n",
    "        return 4*(1/3) - 1 "
   ]
  },
  {
   "cell_type": "code",
   "execution_count": 58,
   "id": "351cdf12",
   "metadata": {},
   "outputs": [
    {
     "name": "stdout",
     "output_type": "stream",
     "text": [
      "R ( 1 °):  0.3333333333333333\n",
      "R ( 2 °):  0.33333333333333326\n",
      "R ( 3 °):  0.33333333333333326\n",
      "R ( 4 °):  0.33333333333333326\n",
      "R ( 5 °):  0.33333333333333326\n",
      "R ( 6 °):  0.33333333333333326\n",
      "R ( 7 °):  0.33333333333333326\n",
      "R ( 8 °):  0.33333333333333326\n",
      "R ( 9 °):  0.33333333333333326\n",
      "R ( 10 °):  0.33333333333333326\n"
     ]
    }
   ],
   "source": [
    "for i in range(1,11):\n",
    "    print(\"R (\",i,\"°): \",seq(i))"
   ]
  },
  {
   "cell_type": "markdown",
   "id": "e09111ee",
   "metadata": {},
   "source": []
  },
  {
   "cell_type": "markdown",
   "id": "3b2622ad",
   "metadata": {},
   "source": [
    "**Exercício 1.4**\n",
    "\n",
    "Verifique que elas são idênticas como funções reais. Teste no computador cada\n",
    "uma delas para \n",
    "\n",
    "µ = 0, 1, µ = 0, 01, µ = 0, 001 ou menor e responda: \n",
    "\n",
    "Qual dessas expressões é mais adequada quando µ é um número pequeno? Por quê?"
   ]
  },
  {
   "cell_type": "code",
   "execution_count": 70,
   "id": "79892d06",
   "metadata": {},
   "outputs": [],
   "source": [
    "def funOne(u):\n",
    "    return np.exp(1/u)/1+np.exp(1/u)\n",
    "\n",
    "def funTwo(u):\n",
    "    return 1/np.exp(-1/u)+1"
   ]
  },
  {
   "cell_type": "code",
   "execution_count": 79,
   "id": "b25df18e",
   "metadata": {},
   "outputs": [
    {
     "name": "stdout",
     "output_type": "stream",
     "text": [
      "0.1:    44052.931589613436\n",
      "0.01:   5.376234283632271e+43\n",
      "0.001:  inf\n"
     ]
    },
    {
     "name": "stderr",
     "output_type": "stream",
     "text": [
      "<ipython-input-70-dfcc42fe9b3b>:2: RuntimeWarning: overflow encountered in exp\n",
      "  return np.exp(1/u)/1+np.exp(1/u)\n"
     ]
    }
   ],
   "source": [
    "print(\"0.1:   \", funOne(0.1))\n",
    "print(\"0.01:  \", funOne(0.01))\n",
    "print(\"0.001: \", funOne(0.001))"
   ]
  },
  {
   "cell_type": "code",
   "execution_count": 80,
   "id": "fb286d4c",
   "metadata": {},
   "outputs": [
    {
     "name": "stdout",
     "output_type": "stream",
     "text": [
      "0.1:    22027.465794806714\n",
      "0.01:   2.688117141816135e+43\n",
      "0.001:  inf\n"
     ]
    },
    {
     "name": "stderr",
     "output_type": "stream",
     "text": [
      "<ipython-input-70-dfcc42fe9b3b>:5: RuntimeWarning: divide by zero encountered in double_scalars\n",
      "  return 1/np.exp(-1/u)+1\n"
     ]
    }
   ],
   "source": [
    "print(\"0.1:   \", funTwo(0.1))\n",
    "print(\"0.01:  \", funTwo(0.01))\n",
    "print(\"0.001: \", funTwo(0.001))"
   ]
  },
  {
   "cell_type": "markdown",
   "id": "6c3b53fe",
   "metadata": {},
   "source": [
    " Como podemos ver nas mensages, os erros dados para cada expressão são diferentes. O primeiro se trata de Overflow(existe uma quantidade maior de digitos permitidos), enquanto que na segunda, se trata de uma divisão por zero(algo que não existe). Logo, o ideal para números menores seria a primeira, que não daria o erro matemático da divisão por zero."
   ]
  },
  {
   "cell_type": "markdown",
   "id": "868b2128",
   "metadata": {},
   "source": [
    "**Exercício 1.5**\n",
    "\n"
   ]
  },
  {
   "cell_type": "code",
   "execution_count": 81,
   "id": "2b26ca38",
   "metadata": {},
   "outputs": [],
   "source": [
    "def funX(x):\n",
    "    return ((1+x)-1)/x"
   ]
  },
  {
   "cell_type": "code",
   "execution_count": 92,
   "id": "0b26d8f1",
   "metadata": {},
   "outputs": [
    {
     "name": "stdout",
     "output_type": "stream",
     "text": [
      "10^-12:  1.000088900582341\n",
      "10^-15:  1.1102230246251565\n",
      "10^-17:  0.0\n"
     ]
    }
   ],
   "source": [
    "print(\"10^-12: \",funX(10**(-12)))\n",
    "print(\"10^-15: \",funX(10**(-15)))\n",
    "print(\"10^-17: \",funX(10**(-17)))"
   ]
  },
  {
   "cell_type": "markdown",
   "id": "db44273e",
   "metadata": {},
   "source": []
  }
 ],
 "metadata": {
  "kernelspec": {
   "display_name": "Python 3",
   "language": "python",
   "name": "python3"
  },
  "language_info": {
   "codemirror_mode": {
    "name": "ipython",
    "version": 3
   },
   "file_extension": ".py",
   "mimetype": "text/x-python",
   "name": "python",
   "nbconvert_exporter": "python",
   "pygments_lexer": "ipython3",
   "version": "3.8.8"
  }
 },
 "nbformat": 4,
 "nbformat_minor": 5
}
