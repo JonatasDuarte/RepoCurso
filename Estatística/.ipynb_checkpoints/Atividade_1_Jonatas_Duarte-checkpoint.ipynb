{
 "cells": [
  {
   "cell_type": "markdown",
   "metadata": {},
   "source": [
    "|LISTAS|DICIONÁRIO|\n",
    "|-----|---|\n",
    "|São feitas de forma ordenada|Possuem o conceito de chaves, não sendo ordenado|\n",
    "|   |   |\n",
    "|   |   |\n",
    "|   |   |\n",
    "|   |   |"
   ]
  },
  {
   "cell_type": "code",
   "execution_count": 52,
   "metadata": {
    "collapsed": true
   },
   "outputs": [],
   "source": [
    "import numpy as np\n",
    "import pandas as pd"
   ]
  },
  {
   "cell_type": "markdown",
   "metadata": {},
   "source": [
    "Existem 4 formas de se importar o \"numpy\""
   ]
  },
  {
   "cell_type": "code",
   "execution_count": 5,
   "metadata": {
    "collapsed": false
   },
   "outputs": [
    {
     "data": {
      "text/plain": [
       "array([ 0.29255935])"
      ]
     },
     "execution_count": 5,
     "metadata": {},
     "output_type": "execute_result"
    }
   ],
   "source": [
    "## 1\n",
    "import numpy \n",
    "numpy.array(1)\n",
    "numpy.random.random(1)"
   ]
  },
  {
   "cell_type": "code",
   "execution_count": 7,
   "metadata": {
    "collapsed": false
   },
   "outputs": [
    {
     "data": {
      "text/plain": [
       "array(1)"
      ]
     },
     "execution_count": 7,
     "metadata": {},
     "output_type": "execute_result"
    }
   ],
   "source": [
    "## 2\n",
    "import numpy as np\n",
    "np.array(1)"
   ]
  },
  {
   "cell_type": "code",
   "execution_count": 11,
   "metadata": {
    "collapsed": false
   },
   "outputs": [
    {
     "data": {
      "text/plain": [
       "array(1)"
      ]
     },
     "execution_count": 11,
     "metadata": {},
     "output_type": "execute_result"
    }
   ],
   "source": [
    "## 3\n",
    "from numpy import array ##Especificar os import\n",
    "array(1)"
   ]
  },
  {
   "cell_type": "code",
   "execution_count": 10,
   "metadata": {
    "collapsed": false
   },
   "outputs": [
    {
     "data": {
      "text/plain": [
       "array(1)"
      ]
     },
     "execution_count": 10,
     "metadata": {},
     "output_type": "execute_result"
    }
   ],
   "source": [
    "## 4\n",
    "from numpy import * ##Tudo\n",
    "array(1)"
   ]
  },
  {
   "cell_type": "code",
   "execution_count": 13,
   "metadata": {
    "collapsed": false
   },
   "outputs": [
    {
     "data": {
      "text/plain": [
       "array([1, 2, 3, 4, 5, 6, 7, 8, 9])"
      ]
     },
     "execution_count": 13,
     "metadata": {},
     "output_type": "execute_result"
    }
   ],
   "source": [
    "ar = np.arange(1, 10)\n",
    "ar"
   ]
  },
  {
   "cell_type": "code",
   "execution_count": 15,
   "metadata": {
    "collapsed": false
   },
   "outputs": [
    {
     "data": {
      "text/plain": [
       "array([  1. ,   4.5,   8. ,  11.5,  15. ])"
      ]
     },
     "execution_count": 15,
     "metadata": {},
     "output_type": "execute_result"
    }
   ],
   "source": [
    "ar1 = np.linspace(1, 15, 5)\n",
    "ar1"
   ]
  },
  {
   "cell_type": "markdown",
   "metadata": {},
   "source": [
    "1)"
   ]
  },
  {
   "cell_type": "code",
   "execution_count": 21,
   "metadata": {
    "collapsed": false
   },
   "outputs": [
    {
     "data": {
      "text/plain": [
       "array([  0,   2,   4,   6,   8,  10,  12,  14,  16,  18,  20,  22,  24,\n",
       "        26,  28,  30,  32,  34,  36,  38,  40,  42,  44,  46,  48,  50,\n",
       "        52,  54,  56,  58,  60,  62,  64,  66,  68,  70,  72,  74,  76,\n",
       "        78,  80,  82,  84,  86,  88,  90,  92,  94,  96,  98, 100])"
      ]
     },
     "execution_count": 21,
     "metadata": {},
     "output_type": "execute_result"
    }
   ],
   "source": [
    "vet = np.arange(0, 101, 2)\n",
    "vet"
   ]
  },
  {
   "cell_type": "markdown",
   "metadata": {},
   "source": [
    "2)"
   ]
  },
  {
   "cell_type": "code",
   "execution_count": 24,
   "metadata": {
    "collapsed": false
   },
   "outputs": [
    {
     "data": {
      "text/plain": [
       "array([   2.,    4.,    6.,    8.,   10.,   12.,   14.,   16.,   18.,\n",
       "         20.,   22.,   24.,   26.,   28.,   30.,   32.,   34.,   36.,\n",
       "         38.,   40.,   42.,   44.,   46.,   48.,   50.,   52.,   54.,\n",
       "         56.,   58.,   60.,   62.,   64.,   66.,   68.,   70.,   72.,\n",
       "         74.,   76.,   78.,   80.,   82.,   84.,   86.,   88.,   90.,\n",
       "         92.,   94.,   96.,   98.,  100.])"
      ]
     },
     "execution_count": 24,
     "metadata": {},
     "output_type": "execute_result"
    }
   ],
   "source": [
    "lin = np.linspace(2, 100)\n",
    "lin"
   ]
  },
  {
   "cell_type": "code",
   "execution_count": 51,
   "metadata": {
    "collapsed": false
   },
   "outputs": [
    {
     "name": "stdout",
     "output_type": "stream",
     "text": [
      "array = ([1, 2, 3, 4, 5, 6, 7, 8, 9, 10])\n"
     ]
    }
   ],
   "source": [
    "vet = np.linspace(1, 10, 10)\n",
    "array = \"\"\n",
    "for i in range(len(vet)):\n",
    "    if(vet[i] == vet[-1]):\n",
    "        array += str(int(vet[i]))\n",
    "    else:\n",
    "        array += str(int(vet[i]))+\", \"\n",
    "print(\"array = ([\"+array+\"])\")"
   ]
  },
  {
   "cell_type": "code",
   "execution_count": 58,
   "metadata": {
    "collapsed": false
   },
   "outputs": [],
   "source": [
    "serie = pd.Series([1, 2, 3])"
   ]
  },
  {
   "cell_type": "code",
   "execution_count": 60,
   "metadata": {
    "collapsed": false
   },
   "outputs": [
    {
     "data": {
      "text/plain": [
       "0    1\n",
       "1    2\n",
       "2    3\n",
       "dtype: int64"
      ]
     },
     "execution_count": 60,
     "metadata": {},
     "output_type": "execute_result"
    }
   ],
   "source": [
    "serie\n"
   ]
  },
  {
   "cell_type": "markdown",
   "metadata": {},
   "source": [
    "Usando Dicionário"
   ]
  },
  {
   "cell_type": "code",
   "execution_count": 65,
   "metadata": {
    "collapsed": false
   },
   "outputs": [
    {
     "data": {
      "text/plain": [
       "0    a\n",
       "1    b\n",
       "d    c\n",
       "d    d\n",
       "dtype: object"
      ]
     },
     "execution_count": 65,
     "metadata": {},
     "output_type": "execute_result"
    }
   ],
   "source": [
    "A = ['a','b','c', 'd']\n",
    "B = [0,1,\"d\", \"d\"]\n",
    "pd.Series(data = A, index= B)\n",
    "\n"
   ]
  },
  {
   "cell_type": "code",
   "execution_count": 76,
   "metadata": {
    "collapsed": false
   },
   "outputs": [
    {
     "data": {
      "text/plain": [
       "0    1\n",
       "1    2\n",
       "2    3\n",
       "dtype: int64"
      ]
     },
     "execution_count": 76,
     "metadata": {},
     "output_type": "execute_result"
    }
   ],
   "source": [
    "d1 = [1,2,3]\n",
    "d2 = np.random.random\n",
    "i = ['a','b','c']\n",
    "pd.Series(data=d1, index=i)\n",
    "\n",
    "d1 = [1,2,3]\n",
    "i = ['a','b','c']\n",
    "pd.Series(d1, i)\n",
    "\n",
    "d1 = [1,2,3]\n",
    "i = ['a','b','c']\n",
    "pd.Series(d1)"
   ]
  },
  {
   "cell_type": "code",
   "execution_count": 86,
   "metadata": {
    "collapsed": false
   },
   "outputs": [
    {
     "data": {
      "text/plain": [
       "0    0.797371\n",
       "1    0.216534\n",
       "2    0.517210\n",
       "3    0.396653\n",
       "4    0.950269\n",
       "dtype: float64"
      ]
     },
     "execution_count": 86,
     "metadata": {},
     "output_type": "execute_result"
    }
   ],
   "source": [
    "d2 = np.random.random(5)\n",
    "pd.Series(d2)\n",
    "\n"
   ]
  },
  {
   "cell_type": "code",
   "execution_count": 87,
   "metadata": {
    "collapsed": false
   },
   "outputs": [
    {
     "data": {
      "text/plain": [
       "11º    a\n",
       "21º    a\n",
       "31º    a\n",
       "4º     a\n",
       "dtype: object"
      ]
     },
     "execution_count": 87,
     "metadata": {},
     "output_type": "execute_result"
    }
   ],
   "source": [
    "#listas\n",
    "\n",
    "d1 = [1,2,3]\n",
    "i = ['a','b','c']\n",
    "pd.Series(data=d1, index=i)\n",
    "\n",
    "d1 = [1,2,3]\n",
    "i = ['a','b','c']\n",
    "pd.Series(d1, i)\n",
    "\n",
    "d1 = [1,2,3]\n",
    "i = ['a','b','c']\n",
    "pd.Series(d1)\n",
    "\n",
    "#ndarray\n",
    "d2 = np.random.random(5)\n",
    "pd.Series(d2)\n",
    "\n",
    "#dicionarios\n",
    "d3 = {'1º': 'Estatística', \n",
    "     '3º': 'Sinais_e_sistemas',\n",
    "     '2º': 'Estrutura_de_dados_com_Ruan'}\n",
    "\n",
    "pd.Series(d3)\n",
    "\n",
    "#escalares\n",
    "\n",
    "pd.Series('a', index=['11º', '21º', '31º', '4º'])\n"
   ]
  },
  {
   "cell_type": "markdown",
   "metadata": {},
   "source": [
    "Atividade sala"
   ]
  },
  {
   "cell_type": "code",
   "execution_count": 103,
   "metadata": {
    "collapsed": false
   },
   "outputs": [
    {
     "data": {
      "text/plain": [
       "0    10\n",
       "1    20\n",
       "2    30\n",
       "3    40\n",
       "4    50\n",
       "dtype: int64"
      ]
     },
     "execution_count": 103,
     "metadata": {},
     "output_type": "execute_result"
    }
   ],
   "source": [
    "s1 = [0,1,2,3,4,]\n",
    "ss1 = [10, 20, 30, 40,50]\n",
    "pd.Series(data=ss1, index=s1)"
   ]
  },
  {
   "cell_type": "code",
   "execution_count": 112,
   "metadata": {
    "collapsed": false
   },
   "outputs": [
    {
     "data": {
      "text/plain": [
       "0    2.000000\n",
       "1         NaN\n",
       "2    3.000000\n",
       "3         NaN\n",
       "4    3.333333\n",
       "6         NaN\n",
       "dtype: float64"
      ]
     },
     "execution_count": 112,
     "metadata": {},
     "output_type": "execute_result"
    }
   ],
   "source": [
    "s2 = [0, 2, 4, 6]\n",
    "ss2 = [5, 10, 15, 20]\n",
    "pd.Series(data=ss2, index=s2)\n",
    "pd.Series(index=s1, data=ss1)/pd.Series(index=s2, data=ss2)"
   ]
  },
  {
   "cell_type": "code",
   "execution_count": 113,
   "metadata": {
    "collapsed": false
   },
   "outputs": [
    {
     "data": {
      "text/plain": [
       "0     50.0\n",
       "1      NaN\n",
       "2    300.0\n",
       "3      NaN\n",
       "4    750.0\n",
       "6      NaN\n",
       "dtype: float64"
      ]
     },
     "execution_count": 113,
     "metadata": {},
     "output_type": "execute_result"
    }
   ],
   "source": [
    "pd.Series(index=s1, data=ss1)*pd.Series(index=s2, data=ss2)"
   ]
  },
  {
   "cell_type": "code",
   "execution_count": 114,
   "metadata": {
    "collapsed": false
   },
   "outputs": [
    {
     "data": {
      "text/plain": [
       "0    15.0\n",
       "1     NaN\n",
       "2    40.0\n",
       "3     NaN\n",
       "4    65.0\n",
       "6     NaN\n",
       "dtype: float64"
      ]
     },
     "execution_count": 114,
     "metadata": {},
     "output_type": "execute_result"
    }
   ],
   "source": [
    "pd.Series(index=s1, data=ss1)+pd.Series(index=s2, data=ss2)"
   ]
  },
  {
   "cell_type": "code",
   "execution_count": 107,
   "metadata": {
    "collapsed": false
   },
   "outputs": [
    {
     "data": {
      "text/plain": [
       "a    1\n",
       "b    2\n",
       "c    3\n",
       "dtype: int64"
      ]
     },
     "execution_count": 107,
     "metadata": {},
     "output_type": "execute_result"
    }
   ],
   "source": [
    "d1 = [1,2,3]\n",
    "i = ['a','b','c']\n",
    "pd.Series(d1, i)\n"
   ]
  },
  {
   "cell_type": "code",
   "execution_count": 108,
   "metadata": {
    "collapsed": false
   },
   "outputs": [
    {
     "data": {
      "text/plain": [
       "0    0.874516\n",
       "1    0.513727\n",
       "2    0.239651\n",
       "3    0.466121\n",
       "4    0.773805\n",
       "dtype: float64"
      ]
     },
     "execution_count": 108,
     "metadata": {},
     "output_type": "execute_result"
    }
   ],
   "source": [
    "d2 = np.random.random(5)\n",
    "pd.Series(d2)"
   ]
  },
  {
   "cell_type": "code",
   "execution_count": 109,
   "metadata": {
    "collapsed": false
   },
   "outputs": [
    {
     "data": {
      "text/plain": [
       "1º                    Estatística\n",
       "2º    Estrutura_de_dados_com_Ruan\n",
       "3º              Sinais_e_sistemas\n",
       "dtype: object"
      ]
     },
     "execution_count": 109,
     "metadata": {},
     "output_type": "execute_result"
    }
   ],
   "source": [
    "#dicionarios\n",
    "d3 = {'1º': 'Estatística', \n",
    "     '3º': 'Sinais_e_sistemas',\n",
    "     '2º': 'Estrutura_de_dados_com_Ruan'}\n",
    "\n",
    "pd.Series(d3)\n"
   ]
  },
  {
   "cell_type": "code",
   "execution_count": 110,
   "metadata": {
    "collapsed": false
   },
   "outputs": [
    {
     "data": {
      "text/plain": [
       "11º    a\n",
       "21º    a\n",
       "31º    a\n",
       "4º     a\n",
       "dtype: object"
      ]
     },
     "execution_count": 110,
     "metadata": {},
     "output_type": "execute_result"
    }
   ],
   "source": [
    "#escalares\n",
    "\n",
    "pd.Series('a', index=['11º', '21º', '31º', '4º'])\n"
   ]
  },
  {
   "cell_type": "code",
   "execution_count": null,
   "metadata": {
    "collapsed": true
   },
   "outputs": [],
   "source": []
  }
 ],
 "metadata": {
  "kernelspec": {
   "display_name": "Python 3",
   "language": "python",
   "name": "python3"
  },
  "language_info": {
   "codemirror_mode": {
    "name": "ipython",
    "version": 3
   },
   "file_extension": ".py",
   "mimetype": "text/x-python",
   "name": "python",
   "nbconvert_exporter": "python",
   "pygments_lexer": "ipython3",
   "version": "3.6.0"
  }
 },
 "nbformat": 4,
 "nbformat_minor": 2
}
